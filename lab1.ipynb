{
 "cells": [
  {
   "cell_type": "markdown",
   "metadata": {},
   "source": [
    "## Integrantes del grupo"
   ]
  },
  {
   "cell_type": "markdown",
   "metadata": {},
   "source": [
    "- Jose Zamora\n",
    "- Leandro Aroca\n",
    "- Matthias Clein"
   ]
  },
  {
   "cell_type": "markdown",
   "metadata": {},
   "source": [
    "## Librerías"
   ]
  },
  {
   "cell_type": "code",
   "execution_count": 100,
   "metadata": {},
   "outputs": [],
   "source": [
    "import pandas as pd\n",
    "from sklearn.preprocessing import LabelEncoder, RobustScaler\n",
    "from keras import models, optimizers, regularizers\n",
    "from keras.layers import Dense, Dropout\n",
    "import matplotlib.pyplot as plt\n",
    "import numpy as np"
   ]
  },
  {
   "cell_type": "markdown",
   "metadata": {},
   "source": [
    "## Cargar Datos"
   ]
  },
  {
   "cell_type": "code",
   "execution_count": 2,
   "metadata": {},
   "outputs": [],
   "source": [
    "train_df = pd.read_csv(\"../MLA DB/data/train.csv\")\n",
    "test_df = pd.read_csv(\"../MLA DB/data/test.csv\")\n",
    "gs_df = pd.read_csv(\"../MLA DB/data/gender_submission.csv\")"
   ]
  },
  {
   "cell_type": "code",
   "execution_count": 3,
   "metadata": {},
   "outputs": [
    {
     "name": "stdout",
     "output_type": "stream",
     "text": [
      "Dimensiones Train: (891, 12)\n",
      "Dimensiones Test: (418, 11)\n",
      "Dimensiones Gender Submission: (418, 2)\n"
     ]
    }
   ],
   "source": [
    "print(f\"Dimensiones Train: {train_df.shape}\")\n",
    "print(f\"Dimensiones Test: {test_df.shape}\")\n",
    "print(f\"Dimensiones Gender Submission: {gs_df.shape}\")"
   ]
  },
  {
   "cell_type": "markdown",
   "metadata": {},
   "source": [
    "Agregamos la columna *Survived* del archivo *gender_submission* como columna *Survived* del DataFrame de *test*."
   ]
  },
  {
   "cell_type": "code",
   "execution_count": 4,
   "metadata": {},
   "outputs": [],
   "source": [
    "test_df[\"Survived\"] = gs_df[\"Survived\"]"
   ]
  },
  {
   "cell_type": "code",
   "execution_count": 5,
   "metadata": {},
   "outputs": [
    {
     "data": {
      "text/html": [
       "<div>\n",
       "<style scoped>\n",
       "    .dataframe tbody tr th:only-of-type {\n",
       "        vertical-align: middle;\n",
       "    }\n",
       "\n",
       "    .dataframe tbody tr th {\n",
       "        vertical-align: top;\n",
       "    }\n",
       "\n",
       "    .dataframe thead th {\n",
       "        text-align: right;\n",
       "    }\n",
       "</style>\n",
       "<table border=\"1\" class=\"dataframe\">\n",
       "  <thead>\n",
       "    <tr style=\"text-align: right;\">\n",
       "      <th></th>\n",
       "      <th>PassengerId</th>\n",
       "      <th>Survived</th>\n",
       "      <th>Pclass</th>\n",
       "      <th>Name</th>\n",
       "      <th>Sex</th>\n",
       "      <th>Age</th>\n",
       "      <th>SibSp</th>\n",
       "      <th>Parch</th>\n",
       "      <th>Ticket</th>\n",
       "      <th>Fare</th>\n",
       "      <th>Cabin</th>\n",
       "      <th>Embarked</th>\n",
       "    </tr>\n",
       "  </thead>\n",
       "  <tbody>\n",
       "    <tr>\n",
       "      <th>0</th>\n",
       "      <td>1</td>\n",
       "      <td>0</td>\n",
       "      <td>3</td>\n",
       "      <td>Braund, Mr. Owen Harris</td>\n",
       "      <td>male</td>\n",
       "      <td>22.0</td>\n",
       "      <td>1</td>\n",
       "      <td>0</td>\n",
       "      <td>A/5 21171</td>\n",
       "      <td>7.2500</td>\n",
       "      <td>NaN</td>\n",
       "      <td>S</td>\n",
       "    </tr>\n",
       "    <tr>\n",
       "      <th>1</th>\n",
       "      <td>2</td>\n",
       "      <td>1</td>\n",
       "      <td>1</td>\n",
       "      <td>Cumings, Mrs. John Bradley (Florence Briggs Th...</td>\n",
       "      <td>female</td>\n",
       "      <td>38.0</td>\n",
       "      <td>1</td>\n",
       "      <td>0</td>\n",
       "      <td>PC 17599</td>\n",
       "      <td>71.2833</td>\n",
       "      <td>C85</td>\n",
       "      <td>C</td>\n",
       "    </tr>\n",
       "    <tr>\n",
       "      <th>2</th>\n",
       "      <td>3</td>\n",
       "      <td>1</td>\n",
       "      <td>3</td>\n",
       "      <td>Heikkinen, Miss. Laina</td>\n",
       "      <td>female</td>\n",
       "      <td>26.0</td>\n",
       "      <td>0</td>\n",
       "      <td>0</td>\n",
       "      <td>STON/O2. 3101282</td>\n",
       "      <td>7.9250</td>\n",
       "      <td>NaN</td>\n",
       "      <td>S</td>\n",
       "    </tr>\n",
       "    <tr>\n",
       "      <th>3</th>\n",
       "      <td>4</td>\n",
       "      <td>1</td>\n",
       "      <td>1</td>\n",
       "      <td>Futrelle, Mrs. Jacques Heath (Lily May Peel)</td>\n",
       "      <td>female</td>\n",
       "      <td>35.0</td>\n",
       "      <td>1</td>\n",
       "      <td>0</td>\n",
       "      <td>113803</td>\n",
       "      <td>53.1000</td>\n",
       "      <td>C123</td>\n",
       "      <td>S</td>\n",
       "    </tr>\n",
       "    <tr>\n",
       "      <th>4</th>\n",
       "      <td>5</td>\n",
       "      <td>0</td>\n",
       "      <td>3</td>\n",
       "      <td>Allen, Mr. William Henry</td>\n",
       "      <td>male</td>\n",
       "      <td>35.0</td>\n",
       "      <td>0</td>\n",
       "      <td>0</td>\n",
       "      <td>373450</td>\n",
       "      <td>8.0500</td>\n",
       "      <td>NaN</td>\n",
       "      <td>S</td>\n",
       "    </tr>\n",
       "  </tbody>\n",
       "</table>\n",
       "</div>"
      ],
      "text/plain": [
       "   PassengerId  Survived  Pclass  \\\n",
       "0            1         0       3   \n",
       "1            2         1       1   \n",
       "2            3         1       3   \n",
       "3            4         1       1   \n",
       "4            5         0       3   \n",
       "\n",
       "                                                Name     Sex   Age  SibSp  \\\n",
       "0                            Braund, Mr. Owen Harris    male  22.0      1   \n",
       "1  Cumings, Mrs. John Bradley (Florence Briggs Th...  female  38.0      1   \n",
       "2                             Heikkinen, Miss. Laina  female  26.0      0   \n",
       "3       Futrelle, Mrs. Jacques Heath (Lily May Peel)  female  35.0      1   \n",
       "4                           Allen, Mr. William Henry    male  35.0      0   \n",
       "\n",
       "   Parch            Ticket     Fare Cabin Embarked  \n",
       "0      0         A/5 21171   7.2500   NaN        S  \n",
       "1      0          PC 17599  71.2833   C85        C  \n",
       "2      0  STON/O2. 3101282   7.9250   NaN        S  \n",
       "3      0            113803  53.1000  C123        S  \n",
       "4      0            373450   8.0500   NaN        S  "
      ]
     },
     "execution_count": 5,
     "metadata": {},
     "output_type": "execute_result"
    }
   ],
   "source": [
    "train_df.head()"
   ]
  },
  {
   "cell_type": "code",
   "execution_count": 6,
   "metadata": {},
   "outputs": [
    {
     "data": {
      "text/html": [
       "<div>\n",
       "<style scoped>\n",
       "    .dataframe tbody tr th:only-of-type {\n",
       "        vertical-align: middle;\n",
       "    }\n",
       "\n",
       "    .dataframe tbody tr th {\n",
       "        vertical-align: top;\n",
       "    }\n",
       "\n",
       "    .dataframe thead th {\n",
       "        text-align: right;\n",
       "    }\n",
       "</style>\n",
       "<table border=\"1\" class=\"dataframe\">\n",
       "  <thead>\n",
       "    <tr style=\"text-align: right;\">\n",
       "      <th></th>\n",
       "      <th>PassengerId</th>\n",
       "      <th>Pclass</th>\n",
       "      <th>Name</th>\n",
       "      <th>Sex</th>\n",
       "      <th>Age</th>\n",
       "      <th>SibSp</th>\n",
       "      <th>Parch</th>\n",
       "      <th>Ticket</th>\n",
       "      <th>Fare</th>\n",
       "      <th>Cabin</th>\n",
       "      <th>Embarked</th>\n",
       "      <th>Survived</th>\n",
       "    </tr>\n",
       "  </thead>\n",
       "  <tbody>\n",
       "    <tr>\n",
       "      <th>0</th>\n",
       "      <td>892</td>\n",
       "      <td>3</td>\n",
       "      <td>Kelly, Mr. James</td>\n",
       "      <td>male</td>\n",
       "      <td>34.5</td>\n",
       "      <td>0</td>\n",
       "      <td>0</td>\n",
       "      <td>330911</td>\n",
       "      <td>7.8292</td>\n",
       "      <td>NaN</td>\n",
       "      <td>Q</td>\n",
       "      <td>0</td>\n",
       "    </tr>\n",
       "    <tr>\n",
       "      <th>1</th>\n",
       "      <td>893</td>\n",
       "      <td>3</td>\n",
       "      <td>Wilkes, Mrs. James (Ellen Needs)</td>\n",
       "      <td>female</td>\n",
       "      <td>47.0</td>\n",
       "      <td>1</td>\n",
       "      <td>0</td>\n",
       "      <td>363272</td>\n",
       "      <td>7.0000</td>\n",
       "      <td>NaN</td>\n",
       "      <td>S</td>\n",
       "      <td>1</td>\n",
       "    </tr>\n",
       "    <tr>\n",
       "      <th>2</th>\n",
       "      <td>894</td>\n",
       "      <td>2</td>\n",
       "      <td>Myles, Mr. Thomas Francis</td>\n",
       "      <td>male</td>\n",
       "      <td>62.0</td>\n",
       "      <td>0</td>\n",
       "      <td>0</td>\n",
       "      <td>240276</td>\n",
       "      <td>9.6875</td>\n",
       "      <td>NaN</td>\n",
       "      <td>Q</td>\n",
       "      <td>0</td>\n",
       "    </tr>\n",
       "    <tr>\n",
       "      <th>3</th>\n",
       "      <td>895</td>\n",
       "      <td>3</td>\n",
       "      <td>Wirz, Mr. Albert</td>\n",
       "      <td>male</td>\n",
       "      <td>27.0</td>\n",
       "      <td>0</td>\n",
       "      <td>0</td>\n",
       "      <td>315154</td>\n",
       "      <td>8.6625</td>\n",
       "      <td>NaN</td>\n",
       "      <td>S</td>\n",
       "      <td>0</td>\n",
       "    </tr>\n",
       "    <tr>\n",
       "      <th>4</th>\n",
       "      <td>896</td>\n",
       "      <td>3</td>\n",
       "      <td>Hirvonen, Mrs. Alexander (Helga E Lindqvist)</td>\n",
       "      <td>female</td>\n",
       "      <td>22.0</td>\n",
       "      <td>1</td>\n",
       "      <td>1</td>\n",
       "      <td>3101298</td>\n",
       "      <td>12.2875</td>\n",
       "      <td>NaN</td>\n",
       "      <td>S</td>\n",
       "      <td>1</td>\n",
       "    </tr>\n",
       "  </tbody>\n",
       "</table>\n",
       "</div>"
      ],
      "text/plain": [
       "   PassengerId  Pclass                                          Name     Sex  \\\n",
       "0          892       3                              Kelly, Mr. James    male   \n",
       "1          893       3              Wilkes, Mrs. James (Ellen Needs)  female   \n",
       "2          894       2                     Myles, Mr. Thomas Francis    male   \n",
       "3          895       3                              Wirz, Mr. Albert    male   \n",
       "4          896       3  Hirvonen, Mrs. Alexander (Helga E Lindqvist)  female   \n",
       "\n",
       "    Age  SibSp  Parch   Ticket     Fare Cabin Embarked  Survived  \n",
       "0  34.5      0      0   330911   7.8292   NaN        Q         0  \n",
       "1  47.0      1      0   363272   7.0000   NaN        S         1  \n",
       "2  62.0      0      0   240276   9.6875   NaN        Q         0  \n",
       "3  27.0      0      0   315154   8.6625   NaN        S         0  \n",
       "4  22.0      1      1  3101298  12.2875   NaN        S         1  "
      ]
     },
     "execution_count": 6,
     "metadata": {},
     "output_type": "execute_result"
    }
   ],
   "source": [
    "test_df.head()"
   ]
  },
  {
   "cell_type": "markdown",
   "metadata": {},
   "source": [
    "## Preprocesamiento de datos"
   ]
  },
  {
   "cell_type": "markdown",
   "metadata": {},
   "source": [
    "### Eliminar columnas irrelevantes"
   ]
  },
  {
   "cell_type": "markdown",
   "metadata": {},
   "source": [
    "Definimos que las columnas *PassengerId*, *Name*, *Ticket* y *Cabin* no aportan información relevante al modelo, además de que en algunos casos tienen una gran cantidad de valores nulos, por lo tanto las sacamos de los DataFrames."
   ]
  },
  {
   "cell_type": "code",
   "execution_count": 7,
   "metadata": {},
   "outputs": [],
   "source": [
    "train_df.drop([\"PassengerId\", \"Name\", \"Ticket\", \"Cabin\"], axis = 1, inplace = True)\n",
    "test_df.drop([\"PassengerId\", \"Name\", \"Ticket\", \"Cabin\"], axis = 1, inplace = True)"
   ]
  },
  {
   "cell_type": "code",
   "execution_count": 8,
   "metadata": {},
   "outputs": [
    {
     "name": "stdout",
     "output_type": "stream",
     "text": [
      "<class 'pandas.core.frame.DataFrame'>\n",
      "RangeIndex: 891 entries, 0 to 890\n",
      "Data columns (total 8 columns):\n",
      " #   Column    Non-Null Count  Dtype  \n",
      "---  ------    --------------  -----  \n",
      " 0   Survived  891 non-null    int64  \n",
      " 1   Pclass    891 non-null    int64  \n",
      " 2   Sex       891 non-null    object \n",
      " 3   Age       714 non-null    float64\n",
      " 4   SibSp     891 non-null    int64  \n",
      " 5   Parch     891 non-null    int64  \n",
      " 6   Fare      891 non-null    float64\n",
      " 7   Embarked  889 non-null    object \n",
      "dtypes: float64(2), int64(4), object(2)\n",
      "memory usage: 55.8+ KB\n"
     ]
    }
   ],
   "source": [
    "train_df.info()"
   ]
  },
  {
   "cell_type": "code",
   "execution_count": 9,
   "metadata": {},
   "outputs": [
    {
     "name": "stdout",
     "output_type": "stream",
     "text": [
      "<class 'pandas.core.frame.DataFrame'>\n",
      "RangeIndex: 418 entries, 0 to 417\n",
      "Data columns (total 8 columns):\n",
      " #   Column    Non-Null Count  Dtype  \n",
      "---  ------    --------------  -----  \n",
      " 0   Pclass    418 non-null    int64  \n",
      " 1   Sex       418 non-null    object \n",
      " 2   Age       332 non-null    float64\n",
      " 3   SibSp     418 non-null    int64  \n",
      " 4   Parch     418 non-null    int64  \n",
      " 5   Fare      417 non-null    float64\n",
      " 6   Embarked  418 non-null    object \n",
      " 7   Survived  418 non-null    int64  \n",
      "dtypes: float64(2), int64(4), object(2)\n",
      "memory usage: 26.2+ KB\n"
     ]
    }
   ],
   "source": [
    "test_df.info()"
   ]
  },
  {
   "cell_type": "markdown",
   "metadata": {},
   "source": [
    "Se aprecia que ambos DataFrames tienen valores nulos, principalmente en la feature de *Age*. "
   ]
  },
  {
   "cell_type": "markdown",
   "metadata": {},
   "source": [
    "### Rellenar datos faltantes"
   ]
  },
  {
   "cell_type": "markdown",
   "metadata": {},
   "source": [
    "La columna *Embarked* de *train* se rellena con *S* (moda de la columna) y la columna *Fare* de *test* se rellena con la media de la columna."
   ]
  },
  {
   "cell_type": "code",
   "execution_count": 10,
   "metadata": {},
   "outputs": [],
   "source": [
    "# Train\n",
    "train_df[\"Embarked\"].fillna(value = train_df[\"Embarked\"].mode().iloc[0], inplace = True)\n",
    "# Test\n",
    "test_df[\"Fare\"].fillna(value = test_df[\"Fare\"].mean(), inplace = True)"
   ]
  },
  {
   "cell_type": "markdown",
   "metadata": {},
   "source": [
    "Se convierten las columnas categóricas (*Sex* y *Embarked*) a numéricas. "
   ]
  },
  {
   "cell_type": "code",
   "execution_count": 11,
   "metadata": {},
   "outputs": [],
   "source": [
    "encoder = LabelEncoder()\n",
    "train_df[\"Sex\"] = encoder.fit_transform(train_df[\"Sex\"])\n",
    "train_df[\"Embarked\"] = encoder.fit_transform(train_df[\"Embarked\"])\n",
    "test_df[\"Sex\"] = encoder.fit_transform(test_df[\"Sex\"])\n",
    "test_df[\"Embarked\"] = encoder.fit_transform(test_df[\"Embarked\"])\n",
    "\n",
    "train_df = train_df.astype(\"float64\")\n",
    "test_df = test_df.astype(\"float64\")"
   ]
  },
  {
   "cell_type": "markdown",
   "metadata": {},
   "source": [
    "Rellenamos la columna *Age* con la media de valores considerados en base a *Survived*, *Sex* y *Cabin*."
   ]
  },
  {
   "cell_type": "code",
   "execution_count": 12,
   "metadata": {},
   "outputs": [],
   "source": [
    "def fill_age(dataframe):\n",
    "    for s in range(0, 2):\n",
    "        for c in range(1, 4):\n",
    "            for g in range(0,2):\n",
    "                mean = (dataframe.Age[(dataframe.Survived == s) & (dataframe.Pclass == c) & (dataframe.Sex == g)].mean())\n",
    "                dataframe.loc[(dataframe.Age.isnull()) & (dataframe.Survived == s) & (dataframe.Pclass == c) & (dataframe.Sex == g), \"Age\"] = mean   \n",
    "    dataframe.info()"
   ]
  },
  {
   "cell_type": "code",
   "execution_count": 13,
   "metadata": {},
   "outputs": [
    {
     "name": "stdout",
     "output_type": "stream",
     "text": [
      "<class 'pandas.core.frame.DataFrame'>\n",
      "RangeIndex: 891 entries, 0 to 890\n",
      "Data columns (total 8 columns):\n",
      " #   Column    Non-Null Count  Dtype  \n",
      "---  ------    --------------  -----  \n",
      " 0   Survived  891 non-null    float64\n",
      " 1   Pclass    891 non-null    float64\n",
      " 2   Sex       891 non-null    float64\n",
      " 3   Age       891 non-null    float64\n",
      " 4   SibSp     891 non-null    float64\n",
      " 5   Parch     891 non-null    float64\n",
      " 6   Fare      891 non-null    float64\n",
      " 7   Embarked  891 non-null    float64\n",
      "dtypes: float64(8)\n",
      "memory usage: 55.8 KB\n",
      "<class 'pandas.core.frame.DataFrame'>\n",
      "RangeIndex: 418 entries, 0 to 417\n",
      "Data columns (total 8 columns):\n",
      " #   Column    Non-Null Count  Dtype  \n",
      "---  ------    --------------  -----  \n",
      " 0   Pclass    418 non-null    float64\n",
      " 1   Sex       418 non-null    float64\n",
      " 2   Age       418 non-null    float64\n",
      " 3   SibSp     418 non-null    float64\n",
      " 4   Parch     418 non-null    float64\n",
      " 5   Fare      418 non-null    float64\n",
      " 6   Embarked  418 non-null    float64\n",
      " 7   Survived  418 non-null    float64\n",
      "dtypes: float64(8)\n",
      "memory usage: 26.2 KB\n"
     ]
    }
   ],
   "source": [
    "fill_age(train_df)\n",
    "fill_age(test_df)"
   ]
  },
  {
   "cell_type": "markdown",
   "metadata": {},
   "source": [
    "### Reescalamiento de *features*"
   ]
  },
  {
   "cell_type": "markdown",
   "metadata": {},
   "source": [
    "Reescalamos las edades y tarifas con RobustScaler para elimimar el efecto de los outliers."
   ]
  },
  {
   "cell_type": "code",
   "execution_count": 14,
   "metadata": {},
   "outputs": [],
   "source": [
    "def scale_age_fare(dataframe):\n",
    "    Q1 = dataframe[[\"Age\",\"Fare\"]].quantile(0.25)\n",
    "    Q3 = dataframe[[\"Age\",\"Fare\"]].quantile(0.75)\n",
    "    IQR = Q3 - Q1\n",
    "    print(IQR)\n",
    "    RS = RobustScaler(with_centering=False, with_scaling=True)\n",
    "    dataframe[[\"Age\",\"Fare\"]] = RS.fit_transform(dataframe[[\"Age\",\"Fare\"]])"
   ]
  },
  {
   "cell_type": "code",
   "execution_count": 15,
   "metadata": {},
   "outputs": [
    {
     "name": "stdout",
     "output_type": "stream",
     "text": [
      "Age     15.0000\n",
      "Fare    23.0896\n",
      "dtype: float64\n",
      "---------------\n",
      "Age     13.3750\n",
      "Fare    23.6042\n",
      "dtype: float64\n"
     ]
    }
   ],
   "source": [
    "scale_age_fare(train_df)\n",
    "print(\"-\"*15)\n",
    "scale_age_fare(test_df)"
   ]
  },
  {
   "cell_type": "code",
   "execution_count": 16,
   "metadata": {},
   "outputs": [
    {
     "data": {
      "text/html": [
       "<div>\n",
       "<style scoped>\n",
       "    .dataframe tbody tr th:only-of-type {\n",
       "        vertical-align: middle;\n",
       "    }\n",
       "\n",
       "    .dataframe tbody tr th {\n",
       "        vertical-align: top;\n",
       "    }\n",
       "\n",
       "    .dataframe thead th {\n",
       "        text-align: right;\n",
       "    }\n",
       "</style>\n",
       "<table border=\"1\" class=\"dataframe\">\n",
       "  <thead>\n",
       "    <tr style=\"text-align: right;\">\n",
       "      <th></th>\n",
       "      <th>Survived</th>\n",
       "      <th>Pclass</th>\n",
       "      <th>Sex</th>\n",
       "      <th>Age</th>\n",
       "      <th>SibSp</th>\n",
       "      <th>Parch</th>\n",
       "      <th>Fare</th>\n",
       "      <th>Embarked</th>\n",
       "    </tr>\n",
       "  </thead>\n",
       "  <tbody>\n",
       "    <tr>\n",
       "      <th>0</th>\n",
       "      <td>0.0</td>\n",
       "      <td>3.0</td>\n",
       "      <td>1.0</td>\n",
       "      <td>1.466667</td>\n",
       "      <td>1.0</td>\n",
       "      <td>0.0</td>\n",
       "      <td>0.313994</td>\n",
       "      <td>2.0</td>\n",
       "    </tr>\n",
       "    <tr>\n",
       "      <th>1</th>\n",
       "      <td>1.0</td>\n",
       "      <td>1.0</td>\n",
       "      <td>0.0</td>\n",
       "      <td>2.533333</td>\n",
       "      <td>1.0</td>\n",
       "      <td>0.0</td>\n",
       "      <td>3.087247</td>\n",
       "      <td>0.0</td>\n",
       "    </tr>\n",
       "    <tr>\n",
       "      <th>2</th>\n",
       "      <td>1.0</td>\n",
       "      <td>3.0</td>\n",
       "      <td>0.0</td>\n",
       "      <td>1.733333</td>\n",
       "      <td>0.0</td>\n",
       "      <td>0.0</td>\n",
       "      <td>0.343228</td>\n",
       "      <td>2.0</td>\n",
       "    </tr>\n",
       "    <tr>\n",
       "      <th>3</th>\n",
       "      <td>1.0</td>\n",
       "      <td>1.0</td>\n",
       "      <td>0.0</td>\n",
       "      <td>2.333333</td>\n",
       "      <td>1.0</td>\n",
       "      <td>0.0</td>\n",
       "      <td>2.299737</td>\n",
       "      <td>2.0</td>\n",
       "    </tr>\n",
       "    <tr>\n",
       "      <th>4</th>\n",
       "      <td>0.0</td>\n",
       "      <td>3.0</td>\n",
       "      <td>1.0</td>\n",
       "      <td>2.333333</td>\n",
       "      <td>0.0</td>\n",
       "      <td>0.0</td>\n",
       "      <td>0.348642</td>\n",
       "      <td>2.0</td>\n",
       "    </tr>\n",
       "  </tbody>\n",
       "</table>\n",
       "</div>"
      ],
      "text/plain": [
       "   Survived  Pclass  Sex       Age  SibSp  Parch      Fare  Embarked\n",
       "0       0.0     3.0  1.0  1.466667    1.0    0.0  0.313994       2.0\n",
       "1       1.0     1.0  0.0  2.533333    1.0    0.0  3.087247       0.0\n",
       "2       1.0     3.0  0.0  1.733333    0.0    0.0  0.343228       2.0\n",
       "3       1.0     1.0  0.0  2.333333    1.0    0.0  2.299737       2.0\n",
       "4       0.0     3.0  1.0  2.333333    0.0    0.0  0.348642       2.0"
      ]
     },
     "execution_count": 16,
     "metadata": {},
     "output_type": "execute_result"
    }
   ],
   "source": [
    "train_df.head()"
   ]
  },
  {
   "cell_type": "code",
   "execution_count": 17,
   "metadata": {},
   "outputs": [
    {
     "data": {
      "text/html": [
       "<div>\n",
       "<style scoped>\n",
       "    .dataframe tbody tr th:only-of-type {\n",
       "        vertical-align: middle;\n",
       "    }\n",
       "\n",
       "    .dataframe tbody tr th {\n",
       "        vertical-align: top;\n",
       "    }\n",
       "\n",
       "    .dataframe thead th {\n",
       "        text-align: right;\n",
       "    }\n",
       "</style>\n",
       "<table border=\"1\" class=\"dataframe\">\n",
       "  <thead>\n",
       "    <tr style=\"text-align: right;\">\n",
       "      <th></th>\n",
       "      <th>Pclass</th>\n",
       "      <th>Sex</th>\n",
       "      <th>Age</th>\n",
       "      <th>SibSp</th>\n",
       "      <th>Parch</th>\n",
       "      <th>Fare</th>\n",
       "      <th>Embarked</th>\n",
       "      <th>Survived</th>\n",
       "    </tr>\n",
       "  </thead>\n",
       "  <tbody>\n",
       "    <tr>\n",
       "      <th>0</th>\n",
       "      <td>3.0</td>\n",
       "      <td>1.0</td>\n",
       "      <td>2.579439</td>\n",
       "      <td>0.0</td>\n",
       "      <td>0.0</td>\n",
       "      <td>0.331687</td>\n",
       "      <td>1.0</td>\n",
       "      <td>0.0</td>\n",
       "    </tr>\n",
       "    <tr>\n",
       "      <th>1</th>\n",
       "      <td>3.0</td>\n",
       "      <td>0.0</td>\n",
       "      <td>3.514019</td>\n",
       "      <td>1.0</td>\n",
       "      <td>0.0</td>\n",
       "      <td>0.296557</td>\n",
       "      <td>2.0</td>\n",
       "      <td>1.0</td>\n",
       "    </tr>\n",
       "    <tr>\n",
       "      <th>2</th>\n",
       "      <td>2.0</td>\n",
       "      <td>1.0</td>\n",
       "      <td>4.635514</td>\n",
       "      <td>0.0</td>\n",
       "      <td>0.0</td>\n",
       "      <td>0.410414</td>\n",
       "      <td>1.0</td>\n",
       "      <td>0.0</td>\n",
       "    </tr>\n",
       "    <tr>\n",
       "      <th>3</th>\n",
       "      <td>3.0</td>\n",
       "      <td>1.0</td>\n",
       "      <td>2.018692</td>\n",
       "      <td>0.0</td>\n",
       "      <td>0.0</td>\n",
       "      <td>0.366990</td>\n",
       "      <td>2.0</td>\n",
       "      <td>0.0</td>\n",
       "    </tr>\n",
       "    <tr>\n",
       "      <th>4</th>\n",
       "      <td>3.0</td>\n",
       "      <td>0.0</td>\n",
       "      <td>1.644860</td>\n",
       "      <td>1.0</td>\n",
       "      <td>1.0</td>\n",
       "      <td>0.520564</td>\n",
       "      <td>2.0</td>\n",
       "      <td>1.0</td>\n",
       "    </tr>\n",
       "  </tbody>\n",
       "</table>\n",
       "</div>"
      ],
      "text/plain": [
       "   Pclass  Sex       Age  SibSp  Parch      Fare  Embarked  Survived\n",
       "0     3.0  1.0  2.579439    0.0    0.0  0.331687       1.0       0.0\n",
       "1     3.0  0.0  3.514019    1.0    0.0  0.296557       2.0       1.0\n",
       "2     2.0  1.0  4.635514    0.0    0.0  0.410414       1.0       0.0\n",
       "3     3.0  1.0  2.018692    0.0    0.0  0.366990       2.0       0.0\n",
       "4     3.0  0.0  1.644860    1.0    1.0  0.520564       2.0       1.0"
      ]
     },
     "execution_count": 17,
     "metadata": {},
     "output_type": "execute_result"
    }
   ],
   "source": [
    "test_df.head()"
   ]
  },
  {
   "cell_type": "markdown",
   "metadata": {},
   "source": [
    "### Definición de conjuntos de *train* y *test*"
   ]
  },
  {
   "cell_type": "markdown",
   "metadata": {},
   "source": [
    "Definimos los conjuntos de *train* y *test* considerando los DataFrames ya preprocesado. Los *X* contendrán 7 columnas de *features* y los *Y* la etiqueta de clasificación."
   ]
  },
  {
   "cell_type": "code",
   "execution_count": 18,
   "metadata": {},
   "outputs": [],
   "source": [
    "X_train = train_df.drop([\"Survived\"], axis = 1)\n",
    "y_train = train_df[\"Survived\"]\n",
    "\n",
    "X_test = test_df.drop([\"Survived\"], axis = 1)\n",
    "y_test = test_df[\"Survived\"]"
   ]
  },
  {
   "cell_type": "code",
   "execution_count": 19,
   "metadata": {},
   "outputs": [
    {
     "name": "stdout",
     "output_type": "stream",
     "text": [
      "<class 'pandas.core.frame.DataFrame'>\n",
      "RangeIndex: 891 entries, 0 to 890\n",
      "Data columns (total 7 columns):\n",
      " #   Column    Non-Null Count  Dtype  \n",
      "---  ------    --------------  -----  \n",
      " 0   Pclass    891 non-null    float64\n",
      " 1   Sex       891 non-null    float64\n",
      " 2   Age       891 non-null    float64\n",
      " 3   SibSp     891 non-null    float64\n",
      " 4   Parch     891 non-null    float64\n",
      " 5   Fare      891 non-null    float64\n",
      " 6   Embarked  891 non-null    float64\n",
      "dtypes: float64(7)\n",
      "memory usage: 48.9 KB\n"
     ]
    }
   ],
   "source": [
    "X_train.info()"
   ]
  },
  {
   "cell_type": "code",
   "execution_count": 20,
   "metadata": {},
   "outputs": [
    {
     "name": "stdout",
     "output_type": "stream",
     "text": [
      "<class 'pandas.core.frame.DataFrame'>\n",
      "RangeIndex: 418 entries, 0 to 417\n",
      "Data columns (total 7 columns):\n",
      " #   Column    Non-Null Count  Dtype  \n",
      "---  ------    --------------  -----  \n",
      " 0   Pclass    418 non-null    float64\n",
      " 1   Sex       418 non-null    float64\n",
      " 2   Age       418 non-null    float64\n",
      " 3   SibSp     418 non-null    float64\n",
      " 4   Parch     418 non-null    float64\n",
      " 5   Fare      418 non-null    float64\n",
      " 6   Embarked  418 non-null    float64\n",
      "dtypes: float64(7)\n",
      "memory usage: 23.0 KB\n"
     ]
    }
   ],
   "source": [
    "X_test.info()"
   ]
  },
  {
   "cell_type": "markdown",
   "metadata": {},
   "source": [
    "### Normalización de valores"
   ]
  },
  {
   "cell_type": "markdown",
   "metadata": {},
   "source": [
    "Ya armados los conjuntos *X* de *train* y *test*, procedemos a normalizar los valores de sus *features*. "
   ]
  },
  {
   "cell_type": "code",
   "execution_count": 21,
   "metadata": {},
   "outputs": [],
   "source": [
    "# min-max\n",
    "def min_max_norm(dataframe):\n",
    "    for column in dataframe.columns:    \n",
    "        print(f\"{column}-> min: {dataframe[column].min()} / max: {dataframe[column].max()}\")\n",
    "        dataframe[column] = (dataframe[column] - dataframe[column].min()) / (dataframe[column].max() - dataframe[column].min())"
   ]
  },
  {
   "cell_type": "code",
   "execution_count": 22,
   "metadata": {},
   "outputs": [],
   "source": [
    "# maximum absolute\n",
    "def max_abs_norm(dataframe):\n",
    "    for column in dataframe.columns:\n",
    "        dataframe[column] = dataframe[column]  / dataframe[column].abs().max()"
   ]
  },
  {
   "cell_type": "markdown",
   "metadata": {},
   "source": [
    "Podemos ocupar las normalizaciones *min-max* o *maximum absolute*."
   ]
  },
  {
   "cell_type": "code",
   "execution_count": 23,
   "metadata": {},
   "outputs": [
    {
     "name": "stdout",
     "output_type": "stream",
     "text": [
      "Pclass-> min: 1.0 / max: 3.0\n",
      "Sex-> min: 0.0 / max: 1.0\n",
      "Age-> min: 0.028 / max: 5.333333333333333\n",
      "SibSp-> min: 0.0 / max: 8.0\n",
      "Parch-> min: 0.0 / max: 6.0\n",
      "Fare-> min: 0.0 / max: 22.1887429838542\n",
      "Embarked-> min: 0.0 / max: 2.0\n",
      "Pclass-> min: 1.0 / max: 3.0\n",
      "Sex-> min: 0.0 / max: 1.0\n",
      "Age-> min: 0.012710280373831777 / max: 5.682242990654205\n",
      "SibSp-> min: 0.0 / max: 8.0\n",
      "Parch-> min: 0.0 / max: 9.0\n",
      "Fare-> min: 0.0 / max: 21.70500165224833\n",
      "Embarked-> min: 0.0 / max: 2.0\n"
     ]
    }
   ],
   "source": [
    "min_max_norm(X_train)\n",
    "min_max_norm(X_test)\n",
    "# max_abs_norm(X_train)\n",
    "# max_abs_norm(X_test)"
   ]
  },
  {
   "cell_type": "code",
   "execution_count": 24,
   "metadata": {},
   "outputs": [
    {
     "data": {
      "text/plain": [
       "(891, 7)"
      ]
     },
     "execution_count": 24,
     "metadata": {},
     "output_type": "execute_result"
    }
   ],
   "source": [
    "X_train.shape"
   ]
  },
  {
   "cell_type": "code",
   "execution_count": 25,
   "metadata": {},
   "outputs": [
    {
     "data": {
      "text/html": [
       "<div>\n",
       "<style scoped>\n",
       "    .dataframe tbody tr th:only-of-type {\n",
       "        vertical-align: middle;\n",
       "    }\n",
       "\n",
       "    .dataframe tbody tr th {\n",
       "        vertical-align: top;\n",
       "    }\n",
       "\n",
       "    .dataframe thead th {\n",
       "        text-align: right;\n",
       "    }\n",
       "</style>\n",
       "<table border=\"1\" class=\"dataframe\">\n",
       "  <thead>\n",
       "    <tr style=\"text-align: right;\">\n",
       "      <th></th>\n",
       "      <th>Pclass</th>\n",
       "      <th>Sex</th>\n",
       "      <th>Age</th>\n",
       "      <th>SibSp</th>\n",
       "      <th>Parch</th>\n",
       "      <th>Fare</th>\n",
       "      <th>Embarked</th>\n",
       "    </tr>\n",
       "  </thead>\n",
       "  <tbody>\n",
       "    <tr>\n",
       "      <th>0</th>\n",
       "      <td>1.0</td>\n",
       "      <td>1.0</td>\n",
       "      <td>0.271174</td>\n",
       "      <td>0.125</td>\n",
       "      <td>0.0</td>\n",
       "      <td>0.014151</td>\n",
       "      <td>1.0</td>\n",
       "    </tr>\n",
       "    <tr>\n",
       "      <th>1</th>\n",
       "      <td>0.0</td>\n",
       "      <td>0.0</td>\n",
       "      <td>0.472229</td>\n",
       "      <td>0.125</td>\n",
       "      <td>0.0</td>\n",
       "      <td>0.139136</td>\n",
       "      <td>0.0</td>\n",
       "    </tr>\n",
       "    <tr>\n",
       "      <th>2</th>\n",
       "      <td>1.0</td>\n",
       "      <td>0.0</td>\n",
       "      <td>0.321438</td>\n",
       "      <td>0.000</td>\n",
       "      <td>0.0</td>\n",
       "      <td>0.015469</td>\n",
       "      <td>1.0</td>\n",
       "    </tr>\n",
       "    <tr>\n",
       "      <th>3</th>\n",
       "      <td>0.0</td>\n",
       "      <td>0.0</td>\n",
       "      <td>0.434531</td>\n",
       "      <td>0.125</td>\n",
       "      <td>0.0</td>\n",
       "      <td>0.103644</td>\n",
       "      <td>1.0</td>\n",
       "    </tr>\n",
       "    <tr>\n",
       "      <th>4</th>\n",
       "      <td>1.0</td>\n",
       "      <td>1.0</td>\n",
       "      <td>0.434531</td>\n",
       "      <td>0.000</td>\n",
       "      <td>0.0</td>\n",
       "      <td>0.015713</td>\n",
       "      <td>1.0</td>\n",
       "    </tr>\n",
       "  </tbody>\n",
       "</table>\n",
       "</div>"
      ],
      "text/plain": [
       "   Pclass  Sex       Age  SibSp  Parch      Fare  Embarked\n",
       "0     1.0  1.0  0.271174  0.125    0.0  0.014151       1.0\n",
       "1     0.0  0.0  0.472229  0.125    0.0  0.139136       0.0\n",
       "2     1.0  0.0  0.321438  0.000    0.0  0.015469       1.0\n",
       "3     0.0  0.0  0.434531  0.125    0.0  0.103644       1.0\n",
       "4     1.0  1.0  0.434531  0.000    0.0  0.015713       1.0"
      ]
     },
     "execution_count": 25,
     "metadata": {},
     "output_type": "execute_result"
    }
   ],
   "source": [
    "X_train.head()"
   ]
  },
  {
   "cell_type": "code",
   "execution_count": 26,
   "metadata": {},
   "outputs": [
    {
     "data": {
      "text/html": [
       "<div>\n",
       "<style scoped>\n",
       "    .dataframe tbody tr th:only-of-type {\n",
       "        vertical-align: middle;\n",
       "    }\n",
       "\n",
       "    .dataframe tbody tr th {\n",
       "        vertical-align: top;\n",
       "    }\n",
       "\n",
       "    .dataframe thead th {\n",
       "        text-align: right;\n",
       "    }\n",
       "</style>\n",
       "<table border=\"1\" class=\"dataframe\">\n",
       "  <thead>\n",
       "    <tr style=\"text-align: right;\">\n",
       "      <th></th>\n",
       "      <th>Pclass</th>\n",
       "      <th>Sex</th>\n",
       "      <th>Age</th>\n",
       "      <th>SibSp</th>\n",
       "      <th>Parch</th>\n",
       "      <th>Fare</th>\n",
       "      <th>Embarked</th>\n",
       "    </tr>\n",
       "  </thead>\n",
       "  <tbody>\n",
       "    <tr>\n",
       "      <th>0</th>\n",
       "      <td>1.0</td>\n",
       "      <td>1.0</td>\n",
       "      <td>0.452723</td>\n",
       "      <td>0.000</td>\n",
       "      <td>0.000000</td>\n",
       "      <td>0.015282</td>\n",
       "      <td>0.5</td>\n",
       "    </tr>\n",
       "    <tr>\n",
       "      <th>1</th>\n",
       "      <td>1.0</td>\n",
       "      <td>0.0</td>\n",
       "      <td>0.617566</td>\n",
       "      <td>0.125</td>\n",
       "      <td>0.000000</td>\n",
       "      <td>0.013663</td>\n",
       "      <td>1.0</td>\n",
       "    </tr>\n",
       "    <tr>\n",
       "      <th>2</th>\n",
       "      <td>0.5</td>\n",
       "      <td>1.0</td>\n",
       "      <td>0.815377</td>\n",
       "      <td>0.000</td>\n",
       "      <td>0.000000</td>\n",
       "      <td>0.018909</td>\n",
       "      <td>0.5</td>\n",
       "    </tr>\n",
       "    <tr>\n",
       "      <th>3</th>\n",
       "      <td>1.0</td>\n",
       "      <td>1.0</td>\n",
       "      <td>0.353818</td>\n",
       "      <td>0.000</td>\n",
       "      <td>0.000000</td>\n",
       "      <td>0.016908</td>\n",
       "      <td>1.0</td>\n",
       "    </tr>\n",
       "    <tr>\n",
       "      <th>4</th>\n",
       "      <td>1.0</td>\n",
       "      <td>0.0</td>\n",
       "      <td>0.287881</td>\n",
       "      <td>0.125</td>\n",
       "      <td>0.111111</td>\n",
       "      <td>0.023984</td>\n",
       "      <td>1.0</td>\n",
       "    </tr>\n",
       "  </tbody>\n",
       "</table>\n",
       "</div>"
      ],
      "text/plain": [
       "   Pclass  Sex       Age  SibSp     Parch      Fare  Embarked\n",
       "0     1.0  1.0  0.452723  0.000  0.000000  0.015282       0.5\n",
       "1     1.0  0.0  0.617566  0.125  0.000000  0.013663       1.0\n",
       "2     0.5  1.0  0.815377  0.000  0.000000  0.018909       0.5\n",
       "3     1.0  1.0  0.353818  0.000  0.000000  0.016908       1.0\n",
       "4     1.0  0.0  0.287881  0.125  0.111111  0.023984       1.0"
      ]
     },
     "execution_count": 26,
     "metadata": {},
     "output_type": "execute_result"
    }
   ],
   "source": [
    "X_test.head()"
   ]
  },
  {
   "cell_type": "markdown",
   "metadata": {},
   "source": [
    "## Modelo 1"
   ]
  },
  {
   "cell_type": "markdown",
   "metadata": {},
   "source": [
    "El Modelo 1 se compone de:\n",
    "- Capa de entrada con 32 neuronas y activación *relu*.\n",
    "- Capa de Dropout de un 20%.\n",
    "- Capa oculta de 32 neuronas y activación *relu*.\n",
    "- Capa de Dropout de un 20%.\n",
    "- Capa oculta de 32 neuronas y activación *relu*.\n",
    "- Capa de salida con 1 neurona y activación *sigmoide*.\n",
    "- Función de pérdida: *Binary Cross-Entropy*.\n",
    "- Optimizador Adam con learning rate: 0.01, 0.001 y 0.0001."
   ]
  },
  {
   "cell_type": "code",
   "execution_count": 27,
   "metadata": {
    "scrolled": false
   },
   "outputs": [
    {
     "name": "stdout",
     "output_type": "stream",
     "text": [
      "Metal device set to: Apple M1 Pro\n",
      "MODELO 1 con Learning Rate 0.01\n"
     ]
    },
    {
     "name": "stderr",
     "output_type": "stream",
     "text": [
      "2022-11-21 19:43:23.915532: I tensorflow/core/common_runtime/pluggable_device/pluggable_device_factory.cc:306] Could not identify NUMA node of platform GPU ID 0, defaulting to 0. Your kernel may not have been built with NUMA support.\n",
      "2022-11-21 19:43:23.915643: I tensorflow/core/common_runtime/pluggable_device/pluggable_device_factory.cc:272] Created TensorFlow device (/job:localhost/replica:0/task:0/device:GPU:0 with 0 MB memory) -> physical PluggableDevice (device: 0, name: METAL, pci bus id: <undefined>)\n",
      "2022-11-21 19:43:24.050169: W tensorflow/core/platform/profile_utils/cpu_utils.cc:128] Failed to get CPU frequency: 0 Hz\n",
      "2022-11-21 19:43:24.214452: I tensorflow/core/grappler/optimizers/custom_graph_optimizer_registry.cc:114] Plugin optimizer for device_type GPU is enabled.\n",
      "2022-11-21 19:43:24.841272: I tensorflow/core/grappler/optimizers/custom_graph_optimizer_registry.cc:114] Plugin optimizer for device_type GPU is enabled.\n"
     ]
    },
    {
     "name": "stdout",
     "output_type": "stream",
     "text": [
      "56/56 [==============================] - 0s 5ms/step - loss: 0.3664 - accuracy: 0.8597\n",
      "27/27 [==============================] - 0s 6ms/step - loss: 0.5122 - accuracy: 0.8038\n",
      "Training accuracy: 0.8597082495689392\n",
      "Testing accuracy: 0.8038278222084045\n",
      "----------------------------------------------------------------------------------------------------\n",
      "MODELO 1 con Learning Rate 0.001\n"
     ]
    },
    {
     "name": "stderr",
     "output_type": "stream",
     "text": [
      "2022-11-21 19:45:15.491500: I tensorflow/core/grappler/optimizers/custom_graph_optimizer_registry.cc:114] Plugin optimizer for device_type GPU is enabled.\n",
      "2022-11-21 19:45:16.074044: I tensorflow/core/grappler/optimizers/custom_graph_optimizer_registry.cc:114] Plugin optimizer for device_type GPU is enabled.\n"
     ]
    },
    {
     "name": "stdout",
     "output_type": "stream",
     "text": [
      "56/56 [==============================] - 0s 5ms/step - loss: 0.3434 - accuracy: 0.8552\n",
      "27/27 [==============================] - 0s 6ms/step - loss: 0.3697 - accuracy: 0.8086\n",
      "Training accuracy: 0.8552188873291016\n",
      "Testing accuracy: 0.8086124658584595\n",
      "----------------------------------------------------------------------------------------------------\n",
      "MODELO 1 con Learning Rate 0.0001\n"
     ]
    },
    {
     "name": "stderr",
     "output_type": "stream",
     "text": [
      "2022-11-21 19:47:06.563882: I tensorflow/core/grappler/optimizers/custom_graph_optimizer_registry.cc:114] Plugin optimizer for device_type GPU is enabled.\n",
      "2022-11-21 19:47:07.208106: I tensorflow/core/grappler/optimizers/custom_graph_optimizer_registry.cc:114] Plugin optimizer for device_type GPU is enabled.\n"
     ]
    },
    {
     "name": "stdout",
     "output_type": "stream",
     "text": [
      "56/56 [==============================] - 0s 5ms/step - loss: 0.4148 - accuracy: 0.8159\n",
      "27/27 [==============================] - 0s 6ms/step - loss: 0.2725 - accuracy: 0.9522\n",
      "Training accuracy: 0.8159371614456177\n",
      "Testing accuracy: 0.9521531462669373\n",
      "----------------------------------------------------------------------------------------------------\n"
     ]
    }
   ],
   "source": [
    "learning_rates = [0.01, 0.001, 0.0001]\n",
    "model_1_list = []\n",
    "\n",
    "for i in range(3):\n",
    "    model = models.Sequential()\n",
    "    model.add(Dense(input_shape = (7,), units = 32, activation = \"relu\"))\n",
    "    model.add(Dropout(0.2))\n",
    "    model.add(Dense(units = 32, activation = 'relu'))\n",
    "    model.add(Dropout(0.2))\n",
    "    model.add(Dense(units = 32, activation = 'relu'))\n",
    "    model.add(Dense(units = 1, activation = 'sigmoid'))\n",
    "    model.compile(loss='binary_crossentropy',\n",
    "                optimizer=optimizers.Adam(learning_rate = learning_rates[i]),\n",
    "                metrics=['accuracy'])\n",
    "    print(f\"MODELO 1 con Learning Rate {learning_rates[i]}\")\n",
    "    # model.summary()\n",
    "    history = model.fit(X_train,y_train, epochs = 300, batch_size = 16, validation_split = 0.2, verbose = 0)\n",
    "    model_1_list.append(history)\n",
    "    train_acc = model.evaluate(X_train, y_train, batch_size=16)[1]\n",
    "    test_acc = model.evaluate(X_test, y_test, batch_size = 16)[1]\n",
    "    print('Training accuracy: %s' % train_acc)\n",
    "    print('Testing accuracy: %s' % test_acc)\n",
    "    print(\"-\"*100)\n",
    "    "
   ]
  },
  {
   "cell_type": "markdown",
   "metadata": {},
   "source": [
    "## Modelo 2"
   ]
  },
  {
   "cell_type": "markdown",
   "metadata": {},
   "source": [
    "El Modelo 2 se compone de:\n",
    "- Capa de entrada con 32 neuronas, activación *elu* y regularización *L2*.\n",
    "- Capa de Dropout de un 20%.\n",
    "- Capa oculta de 64 neuronas, activación *elu* y regularización *L2*.\n",
    "- Capa de Dropout de un 20%.\n",
    "- Capa oculta de 64 neuronas, activación *elu* y regularización *L2*.\n",
    "- Capa de Dropout de un 20%.\n",
    "- Capa de salida con 1 neurona y activación *sigmoide*.\n",
    "- Función de pérdida: *Binary Cross-Entropy*.\n",
    "- Optimizador Adam con learning rate: 0.01, 0.001 y 0.0001."
   ]
  },
  {
   "cell_type": "code",
   "execution_count": 28,
   "metadata": {},
   "outputs": [
    {
     "name": "stdout",
     "output_type": "stream",
     "text": [
      "MODELO 2 con Learning Rate 0.01\n"
     ]
    },
    {
     "name": "stderr",
     "output_type": "stream",
     "text": [
      "2022-11-21 19:48:52.927575: I tensorflow/core/grappler/optimizers/custom_graph_optimizer_registry.cc:114] Plugin optimizer for device_type GPU is enabled.\n",
      "2022-11-21 19:48:54.159563: I tensorflow/core/grappler/optimizers/custom_graph_optimizer_registry.cc:114] Plugin optimizer for device_type GPU is enabled.\n"
     ]
    },
    {
     "name": "stdout",
     "output_type": "stream",
     "text": [
      "56/56 [==============================] - 1s 14ms/step - loss: 0.4649 - accuracy: 0.8182\n",
      "27/27 [==============================] - 0s 15ms/step - loss: 0.3842 - accuracy: 0.9115\n",
      "Training accuracy: 0.8181818723678589\n",
      "Testing accuracy: 0.9114832878112793\n",
      "----------------------------------------------------------------------------------------------------\n",
      "MODELO 2 con Learning Rate 0.001\n"
     ]
    },
    {
     "name": "stderr",
     "output_type": "stream",
     "text": [
      "2022-11-21 19:53:46.372885: I tensorflow/core/grappler/optimizers/custom_graph_optimizer_registry.cc:114] Plugin optimizer for device_type GPU is enabled.\n",
      "2022-11-21 19:53:47.615059: I tensorflow/core/grappler/optimizers/custom_graph_optimizer_registry.cc:114] Plugin optimizer for device_type GPU is enabled.\n"
     ]
    },
    {
     "name": "stdout",
     "output_type": "stream",
     "text": [
      "56/56 [==============================] - 1s 14ms/step - loss: 0.4346 - accuracy: 0.8137\n",
      "27/27 [==============================] - 0s 14ms/step - loss: 0.3107 - accuracy: 0.9258\n",
      "Training accuracy: 0.8136925101280212\n",
      "Testing accuracy: 0.9258373975753784\n",
      "----------------------------------------------------------------------------------------------------\n",
      "MODELO 2 con Learning Rate 0.0001\n"
     ]
    },
    {
     "name": "stderr",
     "output_type": "stream",
     "text": [
      "2022-11-21 19:58:47.286749: I tensorflow/core/grappler/optimizers/custom_graph_optimizer_registry.cc:114] Plugin optimizer for device_type GPU is enabled.\n",
      "2022-11-21 19:58:48.616706: I tensorflow/core/grappler/optimizers/custom_graph_optimizer_registry.cc:114] Plugin optimizer for device_type GPU is enabled.\n"
     ]
    },
    {
     "name": "stdout",
     "output_type": "stream",
     "text": [
      "56/56 [==============================] - 1s 14ms/step - loss: 0.4711 - accuracy: 0.8148\n",
      "27/27 [==============================] - 0s 15ms/step - loss: 0.3370 - accuracy: 0.9354\n",
      "Training accuracy: 0.8148148655891418\n",
      "Testing accuracy: 0.9354067444801331\n",
      "----------------------------------------------------------------------------------------------------\n"
     ]
    }
   ],
   "source": [
    "learning_rates = [0.01, 0.001, 0.0001]\n",
    "model_2_list = []\n",
    "\n",
    "for i in range(3):\n",
    "    model2 = models.Sequential()\n",
    "    model2.add(Dense(32, activation = \"elu\", input_shape = (7,), kernel_regularizer = regularizers.l2(0.001)))\n",
    "    model2.add(Dropout(0.2))\n",
    "    model2.add(Dense(64, activation = \"elu\", kernel_regularizer = regularizers.l2(0.001)))\n",
    "    model2.add(Dropout(0.2))\n",
    "    model2.add(Dense(64, activation = \"elu\", kernel_regularizer = regularizers.l2(0.001)))\n",
    "    model2.add(Dropout(0.2))\n",
    "    model2.add(Dense(1, activation = \"sigmoid\"))\n",
    "    model2.compile(optimizer = optimizers.Adam(learning_rate = learning_rates[i]), loss = \"binary_crossentropy\", metrics = \"accuracy\")\n",
    "    print(f\"MODELO 2 con Learning Rate {learning_rates[i]}\")\n",
    "    # model2.summary()\n",
    "    history2 = model2.fit(X_train, y_train, epochs = 300, batch_size = 16, validation_split = 0.2, verbose = 0)\n",
    "    model_2_list.append(history2)\n",
    "    train_acc_2 = model2.evaluate(X_train, y_train, batch_size = 16)[1]\n",
    "    test_acc_2 = model2.evaluate(X_test, y_test, batch_size = 16)[1]\n",
    "    print('Training accuracy: %s' % train_acc_2)\n",
    "    print('Testing accuracy: %s' % test_acc_2)\n",
    "    print(\"-\"*100)"
   ]
  },
  {
   "cell_type": "markdown",
   "metadata": {},
   "source": [
    "## Modelo 3"
   ]
  },
  {
   "cell_type": "markdown",
   "metadata": {},
   "source": [
    "El Modelo 3 se compone de:\n",
    "- Capa de entrada con 137 neuronas y activación *relu*.\n",
    "- 10 capas ocultas con entre 210 y 220 neuronas con activación *relu*.\n",
    "- Capas de Dropout de 50% cada 4 capas ocultas.\n",
    "- Capa de salida con 1 neurona y activación *sigmoide*.\n",
    "- Función de pérdida: *Binary Cross-Entropy*.\n",
    "- Optimizador Adam con learning rate: 0.01, 0.001 y 0.0001."
   ]
  },
  {
   "cell_type": "code",
   "execution_count": 29,
   "metadata": {},
   "outputs": [
    {
     "name": "stdout",
     "output_type": "stream",
     "text": [
      "MODELO 3 con Learning Rate 0.01\n"
     ]
    },
    {
     "name": "stderr",
     "output_type": "stream",
     "text": [
      "2022-11-21 20:03:44.088799: I tensorflow/core/grappler/optimizers/custom_graph_optimizer_registry.cc:114] Plugin optimizer for device_type GPU is enabled.\n",
      "2022-11-21 20:03:45.135257: I tensorflow/core/grappler/optimizers/custom_graph_optimizer_registry.cc:114] Plugin optimizer for device_type GPU is enabled.\n"
     ]
    },
    {
     "name": "stdout",
     "output_type": "stream",
     "text": [
      "56/56 [==============================] - 1s 8ms/step - loss: 0.3569 - accuracy: 0.8530\n",
      "27/27 [==============================] - 0s 11ms/step - loss: 0.4144 - accuracy: 0.8732\n",
      "Training accuracy: 0.8529742360115051\n",
      "Testing accuracy: 0.8732057809829712\n",
      "----------------------------------------------------------------------------------------------------\n",
      "MODELO 3 con Learning Rate 0.001\n"
     ]
    },
    {
     "name": "stderr",
     "output_type": "stream",
     "text": [
      "2022-11-21 20:04:06.474958: I tensorflow/core/grappler/optimizers/custom_graph_optimizer_registry.cc:114] Plugin optimizer for device_type GPU is enabled.\n",
      "2022-11-21 20:04:07.428479: I tensorflow/core/grappler/optimizers/custom_graph_optimizer_registry.cc:114] Plugin optimizer for device_type GPU is enabled.\n"
     ]
    },
    {
     "name": "stdout",
     "output_type": "stream",
     "text": [
      "56/56 [==============================] - 1s 8ms/step - loss: 0.3159 - accuracy: 0.8788\n",
      "27/27 [==============================] - 0s 9ms/step - loss: 0.6727 - accuracy: 0.8278\n",
      "Training accuracy: 0.8787879347801208\n",
      "Testing accuracy: 0.8277512192726135\n",
      "----------------------------------------------------------------------------------------------------\n",
      "MODELO 3 con Learning Rate 0.0001\n"
     ]
    },
    {
     "name": "stderr",
     "output_type": "stream",
     "text": [
      "2022-11-21 20:04:28.610666: I tensorflow/core/grappler/optimizers/custom_graph_optimizer_registry.cc:114] Plugin optimizer for device_type GPU is enabled.\n",
      "2022-11-21 20:04:29.535860: I tensorflow/core/grappler/optimizers/custom_graph_optimizer_registry.cc:114] Plugin optimizer for device_type GPU is enabled.\n"
     ]
    },
    {
     "name": "stdout",
     "output_type": "stream",
     "text": [
      "56/56 [==============================] - 1s 9ms/step - loss: 0.3831 - accuracy: 0.8552\n",
      "27/27 [==============================] - 0s 10ms/step - loss: 0.3976 - accuracy: 0.8612\n",
      "Training accuracy: 0.8552188873291016\n",
      "Testing accuracy: 0.8612440824508667\n",
      "----------------------------------------------------------------------------------------------------\n"
     ]
    }
   ],
   "source": [
    "learning_rates = [0.01, 0.001, 0.0001]\n",
    "hidden_layers_sizes = 10\n",
    "model_3_list = []\n",
    "\n",
    "for i in range(3):\n",
    "    model3 = models.Sequential()\n",
    "    model3.add(Dense(137, activation = \"relu\", input_dim = X_train.shape[1]))\n",
    "    for j in range(hidden_layers_sizes):\n",
    "        model3.add(Dense((420 + j*2)//2, activation = \"relu\"))\n",
    "        if (j%4 == 0):\n",
    "            model3.add(Dropout(0.5))\n",
    "    model3.add(Dense(1, activation = \"sigmoid\"))\n",
    "    model3.compile(optimizer = optimizers.Adam(learning_rate = learning_rates[i]), loss = \"binary_crossentropy\", metrics = [\"accuracy\"])\n",
    "    print(f\"MODELO 3 con Learning Rate {learning_rates[i]}\")\n",
    "    # model3.summary()\n",
    "    history3 = model3.fit(X_train, y_train, epochs = 300, batch_size = 200, validation_split = 0.2, verbose = 0)\n",
    "    model_3_list.append(history3)\n",
    "    train_acc_3 = model3.evaluate(X_train, y_train, batch_size = 16)[1]\n",
    "    test_acc_3 = model3.evaluate(X_test, y_test, batch_size = 16)[1]\n",
    "    print('Training accuracy: %s' % train_acc_3)\n",
    "    print('Testing accuracy: %s' % test_acc_3)\n",
    "    print(\"-\"*100)"
   ]
  },
  {
   "cell_type": "markdown",
   "metadata": {},
   "source": [
    "## Comparación de resultados"
   ]
  },
  {
   "cell_type": "markdown",
   "metadata": {},
   "source": [
    "Cada fila del gráfico presenta la curva de *accuracy* y *loss* de un modelo."
   ]
  },
  {
   "cell_type": "code",
   "execution_count": 30,
   "metadata": {},
   "outputs": [
    {
     "data": {
      "image/png": "[encoded data removed]",
      "text/plain": [
       "<Figure size 1400x1200 with 6 Axes>"
      ]
     },
     "metadata": {},
     "output_type": "display_data"
    }
   ],
   "source": [
    "fig, ax = plt.subplots(3, 2, figsize = (14, 12))\n",
    "epochs = range(1, len(model_1_list[0].history[\"accuracy\"]) + 1)\n",
    "\n",
    "accuracy_list_model_1 = [model_1_list[0].history[\"accuracy\"], model_1_list[1].history[\"accuracy\"], model_1_list[2].history[\"accuracy\"]]\n",
    "accuracy_list_model_2 = [model_2_list[0].history[\"accuracy\"], model_2_list[1].history[\"accuracy\"], model_2_list[2].history[\"accuracy\"]]\n",
    "accuracy_list_model_3 = [model_3_list[0].history[\"accuracy\"], model_3_list[1].history[\"accuracy\"], model_3_list[2].history[\"accuracy\"]]\n",
    "\n",
    "loss_values_list_model_1 = [model_1_list[0].history[\"loss\"], model_1_list[1].history[\"loss\"], model_1_list[2].history[\"loss\"]]\n",
    "loss_values_list_model_2 = [model_2_list[0].history[\"loss\"], model_2_list[1].history[\"loss\"], model_2_list[2].history[\"loss\"]]\n",
    "loss_values_list_model_3 = [model_3_list[0].history[\"loss\"], model_3_list[1].history[\"loss\"], model_3_list[2].history[\"loss\"]]\n",
    "\n",
    "accuracy_values = [accuracy_list_model_1, accuracy_list_model_2, accuracy_list_model_3]\n",
    "loss_values = [loss_values_list_model_1, loss_values_list_model_2, loss_values_list_model_3]\n",
    "\n",
    "colors = [\"r\", \"g\", \"b\"]\n",
    "labels = [\"Learning Rate 0.01\", \"Learning Rate 0.001\", \" Learning Rate 0.0001\"]\n",
    "\n",
    "for i in range(0, 3):\n",
    "    for j in range(0, 3):\n",
    "        ax[i][0].plot(epochs, accuracy_values[i][j], color = colors[j], label = labels[j])\n",
    "        ax[i][1].plot(epochs, loss_values[i][j], color = colors[j], label = labels[j])\n",
    "    ax[i][0].set_xlabel(\"Epochs\")\n",
    "    ax[i][0].set_ylabel(\"Accuracy\")\n",
    "    ax[i][1].set_xlabel(\"Epochs\")\n",
    "    ax[i][1].set_ylabel(\"Loss\")\n",
    "    ax[i][0].set_ylim(0.6, 0.9)\n",
    "    ax[i][0].legend()\n",
    "    ax[i][1].legend()\n",
    "plt.show()"
   ]
  },
  {
   "cell_type": "markdown",
   "metadata": {},
   "source": [
    "- No necesariamente aumenta el *accuracy* a medida que disminuye el valor del *learning rate*.\n",
    "- Los *accuracy* obtenidos con *learning rate* 0.01 y 0.001 son muy similares.\n",
    "- En los tres modelos se aprecia que a partir de aproximadamente la época 150 el *accuracy* y la *pérdida* no varían significativamente.\n",
    "- En general el primer modelo es el que obtiene mayor *accuracy*, pero el mejor desempeño lo tuvo el modelo 3 con *learning rate* 0.001."
   ]
  },
  {
   "cell_type": "markdown",
   "metadata": {},
   "source": [
    "## Predicciones miembros del grupo"
   ]
  },
  {
   "cell_type": "markdown",
   "metadata": {},
   "source": [
    "Cada integrante del grupo debe proporcionar la siguiente información:\n",
    "- Pclass -> clase (1, 2, 3)\n",
    "- Sex -> sexo\n",
    "- Age -> edad\n",
    "- SibSp -> hermanos\n",
    "- Parch -> padres-hijos\n",
    "- Fare -> tarifa (0 - 512)\n",
    "- Embarked -> puerto de embarque (C = Cherbourg; Q = Queenstown; S = Southampton)"
   ]
  },
  {
   "cell_type": "code",
   "execution_count": 31,
   "metadata": {},
   "outputs": [
    {
     "data": {
      "text/html": [
       "<div>\n",
       "<style scoped>\n",
       "    .dataframe tbody tr th:only-of-type {\n",
       "        vertical-align: middle;\n",
       "    }\n",
       "\n",
       "    .dataframe tbody tr th {\n",
       "        vertical-align: top;\n",
       "    }\n",
       "\n",
       "    .dataframe thead th {\n",
       "        text-align: right;\n",
       "    }\n",
       "</style>\n",
       "<table border=\"1\" class=\"dataframe\">\n",
       "  <thead>\n",
       "    <tr style=\"text-align: right;\">\n",
       "      <th></th>\n",
       "      <th>Pclass</th>\n",
       "      <th>Sex</th>\n",
       "      <th>Age</th>\n",
       "      <th>SibSp</th>\n",
       "      <th>Parch</th>\n",
       "      <th>Fare</th>\n",
       "      <th>Embarked</th>\n",
       "    </tr>\n",
       "  </thead>\n",
       "  <tbody>\n",
       "    <tr>\n",
       "      <th>0</th>\n",
       "      <td>1</td>\n",
       "      <td>male</td>\n",
       "      <td>29</td>\n",
       "      <td>0</td>\n",
       "      <td>2</td>\n",
       "      <td>400</td>\n",
       "      <td>Q</td>\n",
       "    </tr>\n",
       "    <tr>\n",
       "      <th>1</th>\n",
       "      <td>2</td>\n",
       "      <td>male</td>\n",
       "      <td>32</td>\n",
       "      <td>4</td>\n",
       "      <td>2</td>\n",
       "      <td>350</td>\n",
       "      <td>S</td>\n",
       "    </tr>\n",
       "    <tr>\n",
       "      <th>2</th>\n",
       "      <td>2</td>\n",
       "      <td>male</td>\n",
       "      <td>29</td>\n",
       "      <td>3</td>\n",
       "      <td>0</td>\n",
       "      <td>200</td>\n",
       "      <td>C</td>\n",
       "    </tr>\n",
       "  </tbody>\n",
       "</table>\n",
       "</div>"
      ],
      "text/plain": [
       "   Pclass   Sex  Age  SibSp  Parch  Fare Embarked\n",
       "0       1  male   29      0      2   400        Q\n",
       "1       2  male   32      4      2   350        S\n",
       "2       2  male   29      3      0   200        C"
      ]
     },
     "execution_count": 31,
     "metadata": {},
     "output_type": "execute_result"
    }
   ],
   "source": [
    "data_grupo = {\"Pclass\": [1, 2, 2], \n",
    "    \"Sex\": [\"male\", \"male\", \"male\"], \n",
    "    \"Age\": [29, 32, 29], \n",
    "    \"SibSp\": [0, 4, 3], \n",
    "    \"Parch\": [2, 2, 0],\n",
    "    \"Fare\": [400, 350, 200],\n",
    "    \"Embarked\": [\"Q\", \"S\", \"C\"]\n",
    "    }\n",
    "\n",
    "grupo_df = pd.DataFrame(data = data_grupo)\n",
    "grupo_df.head()"
   ]
  },
  {
   "cell_type": "markdown",
   "metadata": {},
   "source": [
    "Se normalizarán los valores con respecto al set de entrenamiento:\n",
    "- Pclass-> min: 1.0 / max: 3.0\n",
    "- Sex-> min: 0.0 / max: 1.0\n",
    "- Age-> dividir por 15.0000 / min: 0.028 / max: 5.333333333333333 \n",
    "- SibSp-> min: 0.0 / max: 8.0\n",
    "- Parch-> min: 0.0 / max: 6.0\n",
    "- Fare-> dividir por 23.0896 / min: 0.0 / max: 22.1887429838542\n",
    "- Embarked-> min: 0.0 / max: 2.0"
   ]
  },
  {
   "cell_type": "code",
   "execution_count": 32,
   "metadata": {},
   "outputs": [
    {
     "data": {
      "text/html": [
       "<div>\n",
       "<style scoped>\n",
       "    .dataframe tbody tr th:only-of-type {\n",
       "        vertical-align: middle;\n",
       "    }\n",
       "\n",
       "    .dataframe tbody tr th {\n",
       "        vertical-align: top;\n",
       "    }\n",
       "\n",
       "    .dataframe thead th {\n",
       "        text-align: right;\n",
       "    }\n",
       "</style>\n",
       "<table border=\"1\" class=\"dataframe\">\n",
       "  <thead>\n",
       "    <tr style=\"text-align: right;\">\n",
       "      <th></th>\n",
       "      <th>Pclass</th>\n",
       "      <th>Sex</th>\n",
       "      <th>Age</th>\n",
       "      <th>SibSp</th>\n",
       "      <th>Parch</th>\n",
       "      <th>Fare</th>\n",
       "      <th>Embarked</th>\n",
       "    </tr>\n",
       "  </thead>\n",
       "  <tbody>\n",
       "    <tr>\n",
       "      <th>0</th>\n",
       "      <td>0.0</td>\n",
       "      <td>1.0</td>\n",
       "      <td>0.359135</td>\n",
       "      <td>0.000</td>\n",
       "      <td>0.333333</td>\n",
       "      <td>0.780748</td>\n",
       "      <td>0.5</td>\n",
       "    </tr>\n",
       "    <tr>\n",
       "      <th>1</th>\n",
       "      <td>0.5</td>\n",
       "      <td>1.0</td>\n",
       "      <td>0.396833</td>\n",
       "      <td>0.500</td>\n",
       "      <td>0.333333</td>\n",
       "      <td>0.683155</td>\n",
       "      <td>1.0</td>\n",
       "    </tr>\n",
       "    <tr>\n",
       "      <th>2</th>\n",
       "      <td>0.5</td>\n",
       "      <td>1.0</td>\n",
       "      <td>0.359135</td>\n",
       "      <td>0.375</td>\n",
       "      <td>0.000000</td>\n",
       "      <td>0.390374</td>\n",
       "      <td>0.0</td>\n",
       "    </tr>\n",
       "  </tbody>\n",
       "</table>\n",
       "</div>"
      ],
      "text/plain": [
       "   Pclass  Sex       Age  SibSp     Parch      Fare  Embarked\n",
       "0     0.0  1.0  0.359135  0.000  0.333333  0.780748       0.5\n",
       "1     0.5  1.0  0.396833  0.500  0.333333  0.683155       1.0\n",
       "2     0.5  1.0  0.359135  0.375  0.000000  0.390374       0.0"
      ]
     },
     "execution_count": 32,
     "metadata": {},
     "output_type": "execute_result"
    }
   ],
   "source": [
    "mins = [1.0, 0.0, 0.028, 0.0, 0.0, 0.0, 0.0]\n",
    "maxs = [3.0, 1.0, 5.333333333333333, 8.0, 6.0, 22.1887429838542, 2.0]\n",
    "\n",
    "grupo_df[\"Sex\"].replace(to_replace=[\"female\", \"male\"], value=[0, 1], inplace = True)\n",
    "grupo_df[\"Embarked\"].replace(to_replace=[\"C\", \"Q\", \"S\"], value=[0, 1, 2], inplace = True)\n",
    "grupo_df = grupo_df.astype(\"float64\")\n",
    "grupo_df[\"Age\"] = grupo_df[\"Age\"] / 15.0000\n",
    "grupo_df[\"Fare\"] = grupo_df[\"Fare\"] / 23.0896\n",
    "\n",
    "for column, i in zip(grupo_df.columns, range(0, 7)):\n",
    "    grupo_df[column] = (grupo_df[column] - mins[i]) / (maxs[i] - mins[i])\n",
    "\n",
    "grupo_df"
   ]
  },
  {
   "cell_type": "markdown",
   "metadata": {},
   "source": [
    "Se utilizan los 3 modelos para realizar las predicciones:"
   ]
  },
  {
   "cell_type": "code",
   "execution_count": 90,
   "metadata": {},
   "outputs": [
    {
     "name": "stdout",
     "output_type": "stream",
     "text": [
      "---------- MODELO 1 ----------\n",
      "Jose: 0.45678719878196716\n",
      "Leandro: 0.10378417372703552\n",
      "Matthias: 0.22569257020950317\n",
      "------------------------------\n",
      "---------- MODELO 2 ----------\n",
      "Jose: 0.519282341003418\n",
      "Leandro: 0.08679971843957901\n",
      "Matthias: 0.23549281060695648\n",
      "------------------------------\n",
      "---------- MODELO 3 ----------\n",
      "Jose: 0.199747696518898\n",
      "Leandro: 0.05948347598314285\n",
      "Matthias: 0.15021707117557526\n",
      "------------------------------\n"
     ]
    }
   ],
   "source": [
    "models_preds = [model.predict(grupo_df, verbose = 0), \n",
    "                model2.predict(grupo_df, verbose = 0), \n",
    "                model3.predict(grupo_df, verbose = 0)]\n",
    "\n",
    "for i in range(0, 3):\n",
    "    print(f\"---------- MODELO {i+1} ----------\")\n",
    "    print(f\"Jose: {models_preds[i][0][0]}\")\n",
    "    print(f\"Leandro: {models_preds[i][1][0]}\")\n",
    "    print(f\"Matthias: {models_preds[i][2][0]}\")\n",
    "    print(\"-\"*30)"
   ]
  },
  {
   "cell_type": "markdown",
   "metadata": {},
   "source": [
    "Se genera un Dataframe con el resultado de los modelos y una media de estos para cada integrante."
   ]
  },
  {
   "cell_type": "code",
   "execution_count": 175,
   "metadata": {},
   "outputs": [
    {
     "name": "stdout",
     "output_type": "stream",
     "text": [
      "Presentacion de Resultados de los Modelos\n"
     ]
    },
    {
     "data": {
      "text/html": [
       "<div>\n",
       "<style scoped>\n",
       "    .dataframe tbody tr th:only-of-type {\n",
       "        vertical-align: middle;\n",
       "    }\n",
       "\n",
       "    .dataframe tbody tr th {\n",
       "        vertical-align: top;\n",
       "    }\n",
       "\n",
       "    .dataframe thead th {\n",
       "        text-align: right;\n",
       "    }\n",
       "</style>\n",
       "<table border=\"1\" class=\"dataframe\">\n",
       "  <thead>\n",
       "    <tr style=\"text-align: right;\">\n",
       "      <th></th>\n",
       "      <th>Modelo 1</th>\n",
       "      <th>Modelo 2</th>\n",
       "      <th>Modelo 3</th>\n",
       "      <th>Media Modelos</th>\n",
       "    </tr>\n",
       "    <tr>\n",
       "      <th>Integrantes</th>\n",
       "      <th></th>\n",
       "      <th></th>\n",
       "      <th></th>\n",
       "      <th></th>\n",
       "    </tr>\n",
       "  </thead>\n",
       "  <tbody>\n",
       "    <tr>\n",
       "      <th>Jose</th>\n",
       "      <td>0.456787</td>\n",
       "      <td>0.103784</td>\n",
       "      <td>0.225693</td>\n",
       "      <td>0.262088</td>\n",
       "    </tr>\n",
       "    <tr>\n",
       "      <th>Leandro</th>\n",
       "      <td>0.519282</td>\n",
       "      <td>0.086800</td>\n",
       "      <td>0.235493</td>\n",
       "      <td>0.280525</td>\n",
       "    </tr>\n",
       "    <tr>\n",
       "      <th>Matthias</th>\n",
       "      <td>0.199748</td>\n",
       "      <td>0.059483</td>\n",
       "      <td>0.150217</td>\n",
       "      <td>0.136483</td>\n",
       "    </tr>\n",
       "  </tbody>\n",
       "</table>\n",
       "</div>"
      ],
      "text/plain": [
       "             Modelo 1  Modelo 2  Modelo 3  Media Modelos\n",
       "Integrantes                                             \n",
       "Jose         0.456787  0.103784  0.225693       0.262088\n",
       "Leandro      0.519282  0.086800  0.235493       0.280525\n",
       "Matthias     0.199748  0.059483  0.150217       0.136483"
      ]
     },
     "execution_count": 175,
     "metadata": {},
     "output_type": "execute_result"
    }
   ],
   "source": [
    "modelo = []\n",
    "for i in range(3):\n",
    "    \n",
    "    modelo.append(models_preds[i][0][0])\n",
    "    modelo.append(models_preds[i][1][0])\n",
    "    modelo.append(models_preds[i][2][0])\n",
    "    \n",
    "print(\"Presentacion de Resultados de los Modelos\")\n",
    "modelos = np.array(modelo)\n",
    "modelos2 = modelos.reshape([3,3])\n",
    "modelos = pd.DataFrame(modelos2, columns=[\"Modelo 1\",\"Modelo 2\", \"Modelo 3\"])\n",
    "Mean = []\n",
    "for i in range(3):\n",
    "    Mean.append((modelos[\"Modelo 1\"][i]+modelos[\"Modelo 2\"][i]+modelos[\"Modelo 3\"][i])/3)\n",
    "modelos[\"Media Modelos\"] = Mean\n",
    "modelos[\"Integrantes\"] = [\"Jose\",\"Leandro\", \"Matthias\"]\n",
    "modelos.set_index(\"Integrantes\")"
   ]
  },
  {
   "cell_type": "code",
   "execution_count": null,
   "metadata": {},
   "outputs": [],
   "source": []
  }
 ],
 "metadata": {
  "kernelspec": {
   "display_name": "Python 3 (ipykernel)",
   "language": "python",
   "name": "python3"
  },
  "language_info": {
   "codemirror_mode": {
    "name": "ipython",
    "version": 3
   },
   "file_extension": ".py",
   "mimetype": "text/x-python",
   "name": "python",
   "nbconvert_exporter": "python",
   "pygments_lexer": "ipython3",
   "version": "3.10.6"
  },
  "vscode": {
   "interpreter": {
    "hash": "ab442baed0c0d8002d8544244931314372b4e866e16812c16c3d4746c71db3e1"
   }
  }
 },
 "nbformat": 4,
 "nbformat_minor": 2
}
