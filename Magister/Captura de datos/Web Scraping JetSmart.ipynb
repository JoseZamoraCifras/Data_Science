{
 "cells": [
  {
   "cell_type": "code",
   "execution_count": 156,
   "id": "ea8cb9e9",
   "metadata": {},
   "outputs": [],
   "source": [
    "from selenium import webdriver\n",
    "from selenium.webdriver.chrome.service import Service\n",
    "from selenium.webdriver.common.keys import Keys\n",
    "from selenium.webdriver.common.by import By\n",
    "\n",
    "import pandas as pd"
   ]
  },
  {
   "cell_type": "code",
   "execution_count": 175,
   "id": "4a9862a6",
   "metadata": {
    "scrolled": false
   },
   "outputs": [
    {
     "ename": "NoSuchElementException",
     "evalue": "Message: no such element: Unable to locate element: {\"method\":\"xpath\",\"selector\":\"//*[@id=\"mainContentFlight\"]/section/div/ac-flight-calendar-page/form/div[1]/ac-flight-calendar-journey/div/div[4]/div/div[3]/ac-flight-calendar-day/label/div/text\"}\n  (Session info: chrome=108.0.5359.99)\nStacktrace:\nBacktrace:\n\t(No symbol) [0x0053F243]\n\t(No symbol) [0x004C7FD1]\n\t(No symbol) [0x003BD04D]\n\t(No symbol) [0x003EC0B0]\n\t(No symbol) [0x003EC22B]\n\t(No symbol) [0x0041E612]\n\t(No symbol) [0x004085D4]\n\t(No symbol) [0x0041C9EB]\n\t(No symbol) [0x00408386]\n\t(No symbol) [0x003E163C]\n\t(No symbol) [0x003E269D]\n\tGetHandleVerifier [0x007D9A22+2655074]\n\tGetHandleVerifier [0x007CCA24+2601828]\n\tGetHandleVerifier [0x005E8C0A+619850]\n\tGetHandleVerifier [0x005E7830+614768]\n\t(No symbol) [0x004D05FC]\n\t(No symbol) [0x004D5968]\n\t(No symbol) [0x004D5A55]\n\t(No symbol) [0x004E051B]\n\tBaseThreadInitThunk [0x74C67BA9+25]\n\tRtlInitializeExceptionChain [0x76F0BB9B+107]\n\tRtlClearBits [0x76F0BB1F+191]\n",
     "output_type": "error",
     "traceback": [
      "\u001b[1;31m---------------------------------------------------------------------------\u001b[0m",
      "\u001b[1;31mNoSuchElementException\u001b[0m                    Traceback (most recent call last)",
      "\u001b[1;32m~\\AppData\\Local\\Temp/ipykernel_5656/3792655463.py\u001b[0m in \u001b[0;36m<module>\u001b[1;34m\u001b[0m\n\u001b[0;32m     58\u001b[0m \u001b[1;33m\u001b[0m\u001b[0m\n\u001b[0;32m     59\u001b[0m \u001b[1;32mfor\u001b[0m \u001b[0mdia\u001b[0m \u001b[1;32min\u001b[0m \u001b[0mdriver\u001b[0m\u001b[1;33m.\u001b[0m\u001b[0mfind_elements\u001b[0m\u001b[1;33m(\u001b[0m\u001b[0mBy\u001b[0m\u001b[1;33m.\u001b[0m\u001b[0mCSS_SELECTOR\u001b[0m\u001b[1;33m,\u001b[0m \u001b[1;34m'div.row.no-gutter'\u001b[0m\u001b[1;33m)\u001b[0m\u001b[1;33m:\u001b[0m\u001b[1;33m\u001b[0m\u001b[1;33m\u001b[0m\u001b[0m\n\u001b[1;32m---> 60\u001b[1;33m     \u001b[0mprint\u001b[0m\u001b[1;33m(\u001b[0m\u001b[0mdriver\u001b[0m\u001b[1;33m.\u001b[0m\u001b[0mfind_element\u001b[0m\u001b[1;33m(\u001b[0m\u001b[0mBy\u001b[0m\u001b[1;33m.\u001b[0m\u001b[0mXPATH\u001b[0m\u001b[1;33m,\u001b[0m \u001b[0mvalor\u001b[0m\u001b[1;33m)\u001b[0m\u001b[1;33m)\u001b[0m\u001b[1;33m\u001b[0m\u001b[1;33m\u001b[0m\u001b[0m\n\u001b[0m\u001b[0;32m     61\u001b[0m     \u001b[1;31m#counter += 1\u001b[0m\u001b[1;33m\u001b[0m\u001b[1;33m\u001b[0m\u001b[0m\n\u001b[0;32m     62\u001b[0m \u001b[1;31m#driver.close()\u001b[0m\u001b[1;33m\u001b[0m\u001b[1;33m\u001b[0m\u001b[0m\n",
      "\u001b[1;32m~\\anaconda3\\lib\\site-packages\\selenium\\webdriver\\remote\\webdriver.py\u001b[0m in \u001b[0;36mfind_element\u001b[1;34m(self, by, value)\u001b[0m\n\u001b[0;32m    859\u001b[0m             \u001b[0mvalue\u001b[0m \u001b[1;33m=\u001b[0m \u001b[1;34m'[name=\"%s\"]'\u001b[0m \u001b[1;33m%\u001b[0m \u001b[0mvalue\u001b[0m\u001b[1;33m\u001b[0m\u001b[1;33m\u001b[0m\u001b[0m\n\u001b[0;32m    860\u001b[0m \u001b[1;33m\u001b[0m\u001b[0m\n\u001b[1;32m--> 861\u001b[1;33m         \u001b[1;32mreturn\u001b[0m \u001b[0mself\u001b[0m\u001b[1;33m.\u001b[0m\u001b[0mexecute\u001b[0m\u001b[1;33m(\u001b[0m\u001b[0mCommand\u001b[0m\u001b[1;33m.\u001b[0m\u001b[0mFIND_ELEMENT\u001b[0m\u001b[1;33m,\u001b[0m \u001b[1;33m{\u001b[0m\u001b[1;34m\"using\"\u001b[0m\u001b[1;33m:\u001b[0m \u001b[0mby\u001b[0m\u001b[1;33m,\u001b[0m \u001b[1;34m\"value\"\u001b[0m\u001b[1;33m:\u001b[0m \u001b[0mvalue\u001b[0m\u001b[1;33m}\u001b[0m\u001b[1;33m)\u001b[0m\u001b[1;33m[\u001b[0m\u001b[1;34m\"value\"\u001b[0m\u001b[1;33m]\u001b[0m\u001b[1;33m\u001b[0m\u001b[1;33m\u001b[0m\u001b[0m\n\u001b[0m\u001b[0;32m    862\u001b[0m \u001b[1;33m\u001b[0m\u001b[0m\n\u001b[0;32m    863\u001b[0m     \u001b[1;32mdef\u001b[0m \u001b[0mfind_elements\u001b[0m\u001b[1;33m(\u001b[0m\u001b[0mself\u001b[0m\u001b[1;33m,\u001b[0m \u001b[0mby\u001b[0m\u001b[1;33m=\u001b[0m\u001b[0mBy\u001b[0m\u001b[1;33m.\u001b[0m\u001b[0mID\u001b[0m\u001b[1;33m,\u001b[0m \u001b[0mvalue\u001b[0m\u001b[1;33m:\u001b[0m \u001b[0mOptional\u001b[0m\u001b[1;33m[\u001b[0m\u001b[0mstr\u001b[0m\u001b[1;33m]\u001b[0m \u001b[1;33m=\u001b[0m \u001b[1;32mNone\u001b[0m\u001b[1;33m)\u001b[0m \u001b[1;33m->\u001b[0m \u001b[0mList\u001b[0m\u001b[1;33m[\u001b[0m\u001b[0mWebElement\u001b[0m\u001b[1;33m]\u001b[0m\u001b[1;33m:\u001b[0m\u001b[1;33m\u001b[0m\u001b[1;33m\u001b[0m\u001b[0m\n",
      "\u001b[1;32m~\\anaconda3\\lib\\site-packages\\selenium\\webdriver\\remote\\webdriver.py\u001b[0m in \u001b[0;36mexecute\u001b[1;34m(self, driver_command, params)\u001b[0m\n\u001b[0;32m    442\u001b[0m         \u001b[0mresponse\u001b[0m \u001b[1;33m=\u001b[0m \u001b[0mself\u001b[0m\u001b[1;33m.\u001b[0m\u001b[0mcommand_executor\u001b[0m\u001b[1;33m.\u001b[0m\u001b[0mexecute\u001b[0m\u001b[1;33m(\u001b[0m\u001b[0mdriver_command\u001b[0m\u001b[1;33m,\u001b[0m \u001b[0mparams\u001b[0m\u001b[1;33m)\u001b[0m\u001b[1;33m\u001b[0m\u001b[1;33m\u001b[0m\u001b[0m\n\u001b[0;32m    443\u001b[0m         \u001b[1;32mif\u001b[0m \u001b[0mresponse\u001b[0m\u001b[1;33m:\u001b[0m\u001b[1;33m\u001b[0m\u001b[1;33m\u001b[0m\u001b[0m\n\u001b[1;32m--> 444\u001b[1;33m             \u001b[0mself\u001b[0m\u001b[1;33m.\u001b[0m\u001b[0merror_handler\u001b[0m\u001b[1;33m.\u001b[0m\u001b[0mcheck_response\u001b[0m\u001b[1;33m(\u001b[0m\u001b[0mresponse\u001b[0m\u001b[1;33m)\u001b[0m\u001b[1;33m\u001b[0m\u001b[1;33m\u001b[0m\u001b[0m\n\u001b[0m\u001b[0;32m    445\u001b[0m             \u001b[0mresponse\u001b[0m\u001b[1;33m[\u001b[0m\u001b[1;34m\"value\"\u001b[0m\u001b[1;33m]\u001b[0m \u001b[1;33m=\u001b[0m \u001b[0mself\u001b[0m\u001b[1;33m.\u001b[0m\u001b[0m_unwrap_value\u001b[0m\u001b[1;33m(\u001b[0m\u001b[0mresponse\u001b[0m\u001b[1;33m.\u001b[0m\u001b[0mget\u001b[0m\u001b[1;33m(\u001b[0m\u001b[1;34m\"value\"\u001b[0m\u001b[1;33m,\u001b[0m \u001b[1;32mNone\u001b[0m\u001b[1;33m)\u001b[0m\u001b[1;33m)\u001b[0m\u001b[1;33m\u001b[0m\u001b[1;33m\u001b[0m\u001b[0m\n\u001b[0;32m    446\u001b[0m             \u001b[1;32mreturn\u001b[0m \u001b[0mresponse\u001b[0m\u001b[1;33m\u001b[0m\u001b[1;33m\u001b[0m\u001b[0m\n",
      "\u001b[1;32m~\\anaconda3\\lib\\site-packages\\selenium\\webdriver\\remote\\errorhandler.py\u001b[0m in \u001b[0;36mcheck_response\u001b[1;34m(self, response)\u001b[0m\n\u001b[0;32m    247\u001b[0m                 \u001b[0malert_text\u001b[0m \u001b[1;33m=\u001b[0m \u001b[0mvalue\u001b[0m\u001b[1;33m[\u001b[0m\u001b[1;34m\"alert\"\u001b[0m\u001b[1;33m]\u001b[0m\u001b[1;33m.\u001b[0m\u001b[0mget\u001b[0m\u001b[1;33m(\u001b[0m\u001b[1;34m\"text\"\u001b[0m\u001b[1;33m)\u001b[0m\u001b[1;33m\u001b[0m\u001b[1;33m\u001b[0m\u001b[0m\n\u001b[0;32m    248\u001b[0m             \u001b[1;32mraise\u001b[0m \u001b[0mexception_class\u001b[0m\u001b[1;33m(\u001b[0m\u001b[0mmessage\u001b[0m\u001b[1;33m,\u001b[0m \u001b[0mscreen\u001b[0m\u001b[1;33m,\u001b[0m \u001b[0mstacktrace\u001b[0m\u001b[1;33m,\u001b[0m \u001b[0malert_text\u001b[0m\u001b[1;33m)\u001b[0m  \u001b[1;31m# type: ignore[call-arg]  # mypy is not smart enough here\u001b[0m\u001b[1;33m\u001b[0m\u001b[1;33m\u001b[0m\u001b[0m\n\u001b[1;32m--> 249\u001b[1;33m         \u001b[1;32mraise\u001b[0m \u001b[0mexception_class\u001b[0m\u001b[1;33m(\u001b[0m\u001b[0mmessage\u001b[0m\u001b[1;33m,\u001b[0m \u001b[0mscreen\u001b[0m\u001b[1;33m,\u001b[0m \u001b[0mstacktrace\u001b[0m\u001b[1;33m)\u001b[0m\u001b[1;33m\u001b[0m\u001b[1;33m\u001b[0m\u001b[0m\n\u001b[0m",
      "\u001b[1;31mNoSuchElementException\u001b[0m: Message: no such element: Unable to locate element: {\"method\":\"xpath\",\"selector\":\"//*[@id=\"mainContentFlight\"]/section/div/ac-flight-calendar-page/form/div[1]/ac-flight-calendar-journey/div/div[4]/div/div[3]/ac-flight-calendar-day/label/div/text\"}\n  (Session info: chrome=108.0.5359.99)\nStacktrace:\nBacktrace:\n\t(No symbol) [0x0053F243]\n\t(No symbol) [0x004C7FD1]\n\t(No symbol) [0x003BD04D]\n\t(No symbol) [0x003EC0B0]\n\t(No symbol) [0x003EC22B]\n\t(No symbol) [0x0041E612]\n\t(No symbol) [0x004085D4]\n\t(No symbol) [0x0041C9EB]\n\t(No symbol) [0x00408386]\n\t(No symbol) [0x003E163C]\n\t(No symbol) [0x003E269D]\n\tGetHandleVerifier [0x007D9A22+2655074]\n\tGetHandleVerifier [0x007CCA24+2601828]\n\tGetHandleVerifier [0x005E8C0A+619850]\n\tGetHandleVerifier [0x005E7830+614768]\n\t(No symbol) [0x004D05FC]\n\t(No symbol) [0x004D5968]\n\t(No symbol) [0x004D5A55]\n\t(No symbol) [0x004E051B]\n\tBaseThreadInitThunk [0x74C67BA9+25]\n\tRtlInitializeExceptionChain [0x76F0BB9B+107]\n\tRtlClearBits [0x76F0BB1F+191]\n"
     ]
    }
   ],
   "source": [
    "import time\n",
    "\n",
    "#Designamos un multiplicador de tiempo, esto por que el tiempo de apertura de un enlace puede sufrir variaciones dependientes \n",
    "#de la conexion a internet.\n",
    "\n",
    "factor = 1 \n",
    "\n",
    "# abro el navegador\n",
    "driver = webdriver.Chrome()\n",
    "\n",
    "# escribo url\n",
    "driver.get('https://jetsmart.com/cl/es/')\n",
    "time.sleep(0.5 * factor)\n",
    "# Cerrarmos el pop up que se abre al entrar en la pagina de JetSmart.\n",
    "popup = driver.find_element(By.XPATH,'//*[@id=\"modalReg\"]/div/div/div[1]/button')\n",
    "popup.click()\n",
    "time.sleep(0.5 * factor)\n",
    "\n",
    "#Seleccion de solo ida\n",
    "ida = '//*[@id=\"carousel\"]/searchbox/div/div/div[1]/div/form/date-selector/div[1]/div/div[2]'\n",
    "ida = driver.find_element(By.XPATH,ida).click()\n",
    "\n",
    "#Seleccion de ruta\n",
    "ori = '//*[@id=\"carousel\"]/searchbox/div/div/div[1]/div/form/route-selector/div[1]/input[1]'\n",
    "ari = '//*[@id=\"carousel\"]/searchbox/div/div/div[1]/div/form/route-selector/div[2]/div[2]/ul[1]/li[1]/ul/li[3]'\n",
    "stgo = '//*[@id=\"carousel\"]/searchbox/div/div/div[1]/div/form/route-selector/div[2]/div[2]/ul[1]/li/ul/li[1]'\n",
    "origen = driver.find_element(By.XPATH,ori).click()\n",
    "time.sleep(0.5 * factor)\n",
    "arica = driver.find_element(By.XPATH,ari).click()\n",
    "santiago = driver.find_element(By.XPATH,stgo).click()                      \n",
    "time.sleep(0.5 * factor)\n",
    "\n",
    "#Seleccion de fecha\n",
    "mes = '//*[@id=\"carousel\"]/searchbox/div/div/div[1]/div/form/date-selector/div[3]/div[2]/div/div[1]/span[2]'\n",
    "pri = '//*[@id=\"carousel\"]/searchbox/div/div/div[1]/div/form/date-selector/div[3]/div[2]/div/div[2]/div/div[2]/div/span[3]'\n",
    "select = '//*[@id=\"carousel\"]/searchbox/div/div/div[1]/div/form/div[2]/button'\n",
    "enero = driver.find_element(By.XPATH,mes).click()\n",
    "time.sleep(0.5 * factor)\n",
    "febrero = driver.find_element(By.XPATH,mes).click()\n",
    "time.sleep(0.5 * factor)\n",
    "fecha1 = driver.find_element(By.XPATH,pri).click()                     \n",
    "time.sleep(0.5 * factor)\n",
    "avanzar = driver.find_element(By.XPATH,select).click()   \n",
    "time.sleep(2 * factor)\n",
    "\n",
    "#Seleccion de ver el mes completo\n",
    "mes_completo = '//*[@id=\"mainContentFlight\"]/section/div/ac-flight-itinerary/div[1]/div[5]/button'\n",
    "mes_completo = driver.find_element(By.XPATH, mes_completo).click()\n",
    "\n",
    "#Web Scrap\n",
    "lista_precios = []\n",
    "\n",
    "#//*[@id=\"mainContentFlight\"]/section/div/ac-flight-calendar-page/form/div[1]\n",
    "#dias_mes = driver.find_elements(By.NAME, 'availability.CalendarDates[0]')\n",
    "semanas = driver.find_elements(By.CSS_SELECTOR, 'div.week')\n",
    "dias = driver.find_element(By.CSS_SELECTOR, 'div.row.no-gutter')\n",
    "valor = '//*[@id=\"mainContentFlight\"]/section/div/ac-flight-calendar-page/form/div[1]/ac-flight-calendar-journey/div/div[4]/div/div[3]/ac-flight-calendar-day/label/div/text'\n",
    "\n",
    "for dia in driver.find_elements(By.CSS_SELECTOR, 'div.row.no-gutter'):\n",
    "    print(driver.find_element(By.XPATH, valor))\n",
    "    #counter += 1\n",
    "#driver.close()"
   ]
  },
  {
   "cell_type": "code",
   "execution_count": 113,
   "id": "5acd967f",
   "metadata": {},
   "outputs": [],
   "source": [
    "//*[@id=\"mainContentFlight\"]/section/div/ac-flight-calendar-page/form/div[1]/ac-flight-calendar-journey/div/div[4]/div/div[3]/ac-flight-calendar-day/label/div/span\n",
    "//*[@id=\"mainContentFlight\"]/section/div/ac-flight-calendar-page/form/div[1]/ac-flight-calendar-journey/div/div[4]/div/div[7]/ac-flight-calendar-day/label/div/text()\n",
    "//*[@id=\"mainContentFlight\"]/section/div/ac-flight-calendar-page/form/div[1]/ac-flight-calendar-journey/div/div[4]/div/div[3]/ac-flight-calendar-day/label/div"
   ]
  },
  {
   "cell_type": "code",
   "execution_count": null,
   "id": "fb8aebb7",
   "metadata": {},
   "outputs": [],
   "source": []
  }
 ],
 "metadata": {
  "kernelspec": {
   "display_name": "Python 3 (ipykernel)",
   "language": "python",
   "name": "python3"
  },
  "language_info": {
   "codemirror_mode": {
    "name": "ipython",
    "version": 3
   },
   "file_extension": ".py",
   "mimetype": "text/x-python",
   "name": "python",
   "nbconvert_exporter": "python",
   "pygments_lexer": "ipython3",
   "version": "3.9.7"
  }
 },
 "nbformat": 4,
 "nbformat_minor": 5
}
