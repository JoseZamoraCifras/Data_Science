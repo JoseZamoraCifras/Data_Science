{
 "cells": [
  {
   "cell_type": "code",
   "execution_count": 156,
   "id": "057652ea",
   "metadata": {},
   "outputs": [],
   "source": [
    "from selenium import webdriver\n",
    "from selenium.webdriver.chrome.service import Service\n",
    "from selenium.webdriver.common.keys import Keys\n",
    "from selenium.webdriver.common.by import By\n",
    "\n",
    "import pandas as pd"
   ]
  },
  {
   "cell_type": "code",
   "execution_count": 177,
   "id": "b6e06f3c",
   "metadata": {
    "scrolled": false
   },
   "outputs": [],
   "source": [
    "import time\n",
    "\n",
    "#Designamos un multiplicador de tiempo, esto por que el tiempo de apertura de un enlace puede sufrir variaciones dependientes \n",
    "#de la conexion a internet.\n",
    "\n",
    "factor = 1 \n",
    "\n",
    "# abro el navegador\n",
    "driver = webdriver.Chrome()\n",
    "\n",
    "# escribo url\n",
    "driver.get('https://jetsmart.com/cl/es/')\n",
    "time.sleep(0.5 * factor)\n",
    "# Cerrarmos el pop up que se abre al entrar en la pagina de JetSmart.\n",
    "popup = driver.find_element(By.XPATH,'//*[@id=\"modalReg\"]/div/div/div[1]/button')\n",
    "popup.click()\n",
    "time.sleep(0.5 * factor)\n",
    "\n",
    "#Seleccion de solo ida\n",
    "ida = '//*[@id=\"carousel\"]/searchbox/div/div/div[1]/div/form/date-selector/div[1]/div/div[2]'\n",
    "ida = driver.find_element(By.XPATH,ida).click()\n",
    "\n",
    "#Seleccion de ruta\n",
    "ori = '//*[@id=\"carousel\"]/searchbox/div/div/div[1]/div/form/route-selector/div[1]/input[1]'\n",
    "ari = '//*[@id=\"carousel\"]/searchbox/div/div/div[1]/div/form/route-selector/div[2]/div[2]/ul[1]/li[1]/ul/li[3]'\n",
    "stgo = '//*[@id=\"carousel\"]/searchbox/div/div/div[1]/div/form/route-selector/div[2]/div[2]/ul[1]/li/ul/li[1]'\n",
    "origen = driver.find_element(By.XPATH,ori).click()\n",
    "time.sleep(0.5 * factor)\n",
    "arica = driver.find_element(By.XPATH,ari).click()\n",
    "santiago = driver.find_element(By.XPATH,stgo).click()                      \n",
    "time.sleep(0.5 * factor)\n",
    "\n",
    "#Seleccion de fecha\n",
    "mes = '//*[@id=\"carousel\"]/searchbox/div/div/div[1]/div/form/date-selector/div[3]/div[2]/div/div[1]/span[2]'\n",
    "pri = '//*[@id=\"carousel\"]/searchbox/div/div/div[1]/div/form/date-selector/div[3]/div[2]/div/div[2]/div/div[2]/div/span[3]'\n",
    "select = '//*[@id=\"carousel\"]/searchbox/div/div/div[1]/div/form/div[2]/button'\n",
    "enero = driver.find_element(By.XPATH,mes).click()\n",
    "time.sleep(0.5 * factor)\n",
    "febrero = driver.find_element(By.XPATH,mes).click()\n",
    "time.sleep(0.5 * factor)\n",
    "fecha1 = driver.find_element(By.XPATH,pri).click()                     \n",
    "time.sleep(0.5 * factor)\n",
    "avanzar = driver.find_element(By.XPATH,select).click()   \n",
    "time.sleep(2 * factor)\n",
    "\n",
    "#Seleccion de ver el mes completo\n",
    "mes_completo = '//*[@id=\"mainContentFlight\"]/section/div/ac-flight-itinerary/div[1]/div[5]/button'\n",
    "mes_completo = driver.find_element(By.XPATH, mes_completo).click()\n",
    "\n",
    "#Web Scrap\n",
    "lista_precios = []\n",
    "\n",
    "#//*[@id=\"mainContentFlight\"]/section/div/ac-flight-calendar-page/form/div[1]\n",
    "#dias_mes = driver.find_elements(By.NAME, 'availability.CalendarDates[0]')\n",
    "semanas = driver.find_elements(By.CSS_SELECTOR, 'div.week')\n",
    "dias = driver.find_element(By.CSS_SELECTOR, 'div.row.no-gutter')\n",
    "valor = '//*[@id=\"mainContentFlight\"]/section/div/ac-flight-calendar-page/form/div[1]/ac-flight-calendar-journey/div/div[4]/div/div[3]/ac-flight-calendar-day/label/div/text'\n",
    "\n",
    "# for dia in driver.find_elements(By.CSS_SELECTOR, 'div.row.no-gutter'):\n",
    "#     print(driver.find_element(By.XPATH, valor))\n",
    "    #counter += 1\n",
    "driver.close()"
   ]
  },
  {
   "cell_type": "code",
   "execution_count": null,
   "id": "d629d307",
   "metadata": {},
   "outputs": [],
   "source": []
  }
 ],
 "metadata": {
  "kernelspec": {
   "display_name": "Python 3 (ipykernel)",
   "language": "python",
   "name": "python3"
  },
  "language_info": {
   "codemirror_mode": {
    "name": "ipython",
    "version": 3
   },
   "file_extension": ".py",
   "mimetype": "text/x-python",
   "name": "python",
   "nbconvert_exporter": "python",
   "pygments_lexer": "ipython3",
   "version": "3.9.7"
  }
 },
 "nbformat": 4,
 "nbformat_minor": 5
}
